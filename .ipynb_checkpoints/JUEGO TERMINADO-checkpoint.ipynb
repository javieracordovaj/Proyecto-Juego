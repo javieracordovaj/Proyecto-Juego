{
 "cells": [
  {
   "cell_type": "code",
   "execution_count": 13,
   "id": "f0eaa6c7-8875-48b6-9679-d28b9855c193",
   "metadata": {
    "tags": []
   },
   "outputs": [
    {
     "name": "stdin",
     "output_type": "stream",
     "text": [
      "Nombre jugador 1:  Octavio\n",
      "Nombre jugador 2:  Javiera\n"
     ]
    },
    {
     "name": "stdout",
     "output_type": "stream",
     "text": [
      "La mano de Octavio es ['9♥', '3♦', '5♠', 'K♠', '7♦', '5♦'].\n",
      "La mano de Javiera es ['3♣', '5♣', 'J♣', 'K♥', 'K♣', '4♥']\n",
      "        00        \n",
      "      01  02      \n",
      "    03  04  05    \n",
      "  06  07  08  09  \n",
      "10  11  12  13  14\n",
      "\n",
      "----------------------------------------------\n",
      "\n"
     ]
    },
    {
     "name": "stdin",
     "output_type": "stream",
     "text": [
      "Octavio, escoge una carta:  14\n"
     ]
    },
    {
     "name": "stdout",
     "output_type": "stream",
     "text": [
      "        00        \n",
      "      01  02      \n",
      "    03  04  05    \n",
      "  06  07  08  09  \n",
      "10  11  12  13  Q♦\n",
      "\n",
      "Octavio, te salvaste!\n",
      "\n",
      "La carta escogida es: Q♦\n",
      "\n",
      "Tu mano es: ['9♥', '3♦', '5♠', 'K♠', '7♦', '5♦']\n",
      "\n",
      "Javiera, te salvaste!\n",
      "\n",
      "La mano de Javiera es :['3♣', '5♣', 'J♣', 'K♥', 'K♣', '4♥']\n",
      "\n",
      "----------------------------------------------\n",
      "\n",
      "\n",
      "Ahora es el turno de Javiera.\n"
     ]
    },
    {
     "name": "stdin",
     "output_type": "stream",
     "text": [
      "Javiera, escoge una carta:  13\n"
     ]
    },
    {
     "name": "stdout",
     "output_type": "stream",
     "text": [
      "        00        \n",
      "      01  02      \n",
      "    03  04  05    \n",
      "  06  07  08  09  \n",
      "10  11  12  J♥  Q♦\n",
      "\n",
      "Javiera, bebe 5 segundos!\n",
      "\n",
      "La carta escogida es: J♥\n",
      "\n",
      "Tu mano es: ['3♣', '5♣', 'J♣', 'K♥', 'K♣', '4♥']\n",
      "\n",
      "Octavio, te salvaste!\n",
      "\n",
      "La mano de Octavio es :['9♥', '3♦', '5♠', 'K♠', '7♦', '5♦']\n",
      "\n",
      "Ahora es el turno de Octavio.\n",
      "\n",
      "----------------------------------------------\n",
      "\n"
     ]
    },
    {
     "name": "stdin",
     "output_type": "stream",
     "text": [
      "Octavio, escoge una carta:  12\n"
     ]
    },
    {
     "name": "stdout",
     "output_type": "stream",
     "text": [
      "        00        \n",
      "      01  02      \n",
      "    03  04  05    \n",
      "  06  07  08  09  \n",
      "10  11  3♠  J♥  Q♦\n",
      "\n",
      "Octavio, bebe 5 segundos!\n",
      "\n",
      "La carta escogida es: 3♠\n",
      "\n",
      "Tu mano es: ['9♥', '3♦', '5♠', 'K♠', '7♦', '5♦']\n",
      "\n",
      "Javiera, bebe 5 segundos!\n",
      "\n",
      "La mano de Javiera es :['3♣', '5♣', 'J♣', 'K♥', 'K♣', '4♥']\n",
      "\n",
      "----------------------------------------------\n",
      "\n",
      "\n",
      "Ahora es el turno de Javiera.\n"
     ]
    },
    {
     "name": "stdin",
     "output_type": "stream",
     "text": [
      "Javiera, escoge una carta:  11\n"
     ]
    },
    {
     "name": "stdout",
     "output_type": "stream",
     "text": [
      "        00        \n",
      "      01  02      \n",
      "    03  04  05    \n",
      "  06  07  08  09  \n",
      "10  K♦  3♠  J♥  Q♦\n",
      "\n",
      "Javiera, bebe 5 segundos!\n",
      "\n",
      "La carta escogida es: K♦\n",
      "\n",
      "Tu mano es: ['3♣', '5♣', 'J♣', 'K♥', 'K♣', '4♥']\n",
      "\n",
      "Octavio, bebe 5 segundos!\n",
      "\n",
      "La mano de Octavio es :['9♥', '3♦', '5♠', 'K♠', '7♦', '5♦']\n",
      "\n",
      "Ahora es el turno de Octavio.\n",
      "\n",
      "----------------------------------------------\n",
      "\n"
     ]
    },
    {
     "name": "stdin",
     "output_type": "stream",
     "text": [
      "Octavio, escoge una carta:  10\n"
     ]
    },
    {
     "name": "stdout",
     "output_type": "stream",
     "text": [
      "        00        \n",
      "      01  02      \n",
      "    03  04  05    \n",
      "  06  07  08  09  \n",
      "4♠  K♦  3♠  J♥  Q♦\n",
      "\n",
      "Octavio, te salvaste!\n",
      "\n",
      "La carta escogida es: 4♠\n",
      "\n",
      "Tu mano es: ['9♥', '3♦', '5♠', 'K♠', '7♦', '5♦']\n",
      "\n",
      "Javiera, bebe 5 segundos!\n",
      "\n",
      "La mano de Javiera es :['3♣', '5♣', 'J♣', 'K♥', 'K♣', '4♥']\n",
      "\n",
      "----------------------------------------------\n",
      "\n",
      "\n",
      "Ahora es el turno de Javiera.\n"
     ]
    },
    {
     "name": "stdin",
     "output_type": "stream",
     "text": [
      "Javiera, escoge una carta:  09\n"
     ]
    },
    {
     "name": "stdout",
     "output_type": "stream",
     "text": [
      "        00        \n",
      "      01  02      \n",
      "    03  04  05    \n",
      "  06  07  08  A♥  \n",
      "4♠  K♦  3♠  J♥  Q♦\n",
      "\n",
      "Javiera, te salvaste!\n",
      "\n",
      "La carta escogida es: A♥\n",
      "\n",
      "Tu mano es: ['3♣', '5♣', 'J♣', 'K♥', 'K♣', '4♥']\n",
      "\n",
      "Octavio, te salvaste!\n",
      "\n",
      "La mano de Octavio es :['9♥', '3♦', '5♠', 'K♠', '7♦', '5♦']\n",
      "\n",
      "Ahora es el turno de Octavio.\n",
      "\n",
      "----------------------------------------------\n",
      "\n"
     ]
    },
    {
     "name": "stdin",
     "output_type": "stream",
     "text": [
      "Octavio, escoge una carta:  08\n"
     ]
    },
    {
     "name": "stdout",
     "output_type": "stream",
     "text": [
      "        00        \n",
      "      01  02      \n",
      "    03  04  05    \n",
      "  06  07  5♥  A♥  \n",
      "4♠  K♦  3♠  J♥  Q♦\n",
      "\n",
      "Octavio, bebe 5 segundos!\n",
      "\n",
      "La carta escogida es: 5♥\n",
      "\n",
      "Tu mano es: ['9♥', '3♦', '5♠', 'K♠', '7♦', '5♦']\n",
      "\n",
      "Javiera, bebe 5 segundos!\n",
      "\n",
      "La mano de Javiera es :['3♣', '5♣', 'J♣', 'K♥', 'K♣', '4♥']\n",
      "\n",
      "----------------------------------------------\n",
      "\n",
      "\n",
      "Ahora es el turno de Javiera.\n"
     ]
    },
    {
     "name": "stdin",
     "output_type": "stream",
     "text": [
      "Javiera, escoge una carta:  07\n"
     ]
    },
    {
     "name": "stdout",
     "output_type": "stream",
     "text": [
      "        00        \n",
      "      01  02      \n",
      "    03  04  05    \n",
      "  06  8♣  5♥  A♥  \n",
      "4♠  K♦  3♠  J♥  Q♦\n",
      "\n",
      "Javiera, te salvaste!\n",
      "\n",
      "La carta escogida es: 8♣\n",
      "\n",
      "Tu mano es: ['3♣', '5♣', 'J♣', 'K♥', 'K♣', '4♥']\n",
      "\n",
      "Octavio, te salvaste!\n",
      "\n",
      "La mano de Octavio es :['9♥', '3♦', '5♠', 'K♠', '7♦', '5♦']\n",
      "\n",
      "Ahora es el turno de Octavio.\n",
      "\n",
      "----------------------------------------------\n",
      "\n"
     ]
    },
    {
     "name": "stdin",
     "output_type": "stream",
     "text": [
      "Octavio, escoge una carta:  06\n"
     ]
    },
    {
     "name": "stdout",
     "output_type": "stream",
     "text": [
      "        00        \n",
      "      01  02      \n",
      "    03  04  05    \n",
      "  2♦  8♣  5♥  A♥  \n",
      "4♠  K♦  3♠  J♥  Q♦\n",
      "\n",
      "Octavio, te salvaste!\n",
      "\n",
      "La carta escogida es: 2♦\n",
      "\n",
      "Tu mano es: ['9♥', '3♦', '5♠', 'K♠', '7♦', '5♦']\n",
      "\n",
      "Javiera, te salvaste!\n",
      "\n",
      "La mano de Javiera es :['3♣', '5♣', 'J♣', 'K♥', 'K♣', '4♥']\n",
      "\n",
      "----------------------------------------------\n",
      "\n",
      "\n",
      "Ahora es el turno de Javiera.\n"
     ]
    },
    {
     "name": "stdin",
     "output_type": "stream",
     "text": [
      "Javiera, escoge una carta:  05\n"
     ]
    },
    {
     "name": "stdout",
     "output_type": "stream",
     "text": [
      "        00        \n",
      "      01  02      \n",
      "    03  04  8♠    \n",
      "  2♦  8♣  5♥  A♥  \n",
      "4♠  K♦  3♠  J♥  Q♦\n",
      "\n",
      "Javiera, te salvaste!\n",
      "\n",
      "La carta escogida es: 8♠\n",
      "\n",
      "Tu mano es: ['3♣', '5♣', 'J♣', 'K♥', 'K♣', '4♥']\n",
      "\n",
      "Octavio, te salvaste!\n",
      "\n",
      "La mano de Octavio es :['9♥', '3♦', '5♠', 'K♠', '7♦', '5♦']\n",
      "\n",
      "Ahora es el turno de Octavio.\n",
      "\n",
      "----------------------------------------------\n",
      "\n"
     ]
    },
    {
     "name": "stdin",
     "output_type": "stream",
     "text": [
      "Octavio, escoge una carta:  04\n"
     ]
    },
    {
     "name": "stdout",
     "output_type": "stream",
     "text": [
      "        00        \n",
      "      01  02      \n",
      "    03  6♦  8♠    \n",
      "  2♦  8♣  5♥  A♥  \n",
      "4♠  K♦  3♠  J♥  Q♦\n",
      "\n",
      "Octavio, te salvaste!\n",
      "\n",
      "La carta escogida es: 6♦\n",
      "\n",
      "Tu mano es: ['9♥', '3♦', '5♠', 'K♠', '7♦', '5♦']\n",
      "\n",
      "Javiera, te salvaste!\n",
      "\n",
      "La mano de Javiera es :['3♣', '5♣', 'J♣', 'K♥', 'K♣', '4♥']\n",
      "\n",
      "----------------------------------------------\n",
      "\n",
      "\n",
      "Ahora es el turno de Javiera.\n"
     ]
    },
    {
     "name": "stdin",
     "output_type": "stream",
     "text": [
      "Javiera, escoge una carta:  03\n"
     ]
    },
    {
     "name": "stdout",
     "output_type": "stream",
     "text": [
      "        00        \n",
      "      01  02      \n",
      "    J♠  6♦  8♠    \n",
      "  2♦  8♣  5♥  A♥  \n",
      "4♠  K♦  3♠  J♥  Q♦\n",
      "\n",
      "Javiera, bebe 5 segundos!\n",
      "\n",
      "La carta escogida es: J♠\n",
      "\n",
      "Tu mano es: ['3♣', '5♣', 'J♣', 'K♥', 'K♣', '4♥']\n",
      "\n",
      "Octavio, te salvaste!\n",
      "\n",
      "La mano de Octavio es :['9♥', '3♦', '5♠', 'K♠', '7♦', '5♦']\n",
      "\n",
      "Ahora es el turno de Octavio.\n",
      "\n",
      "----------------------------------------------\n",
      "\n"
     ]
    },
    {
     "name": "stdin",
     "output_type": "stream",
     "text": [
      "Octavio, escoge una carta:  02\n"
     ]
    },
    {
     "name": "stdout",
     "output_type": "stream",
     "text": [
      "        00        \n",
      "      01  9♦      \n",
      "    J♠  6♦  8♠    \n",
      "  2♦  8♣  5♥  A♥  \n",
      "4♠  K♦  3♠  J♥  Q♦\n",
      "\n",
      "Octavio, bebe 5 segundos!\n",
      "\n",
      "La carta escogida es: 9♦\n",
      "\n",
      "Tu mano es: ['9♥', '3♦', '5♠', 'K♠', '7♦', '5♦']\n",
      "\n",
      "Javiera, te salvaste!\n",
      "\n",
      "La mano de Javiera es :['3♣', '5♣', 'J♣', 'K♥', 'K♣', '4♥']\n",
      "\n",
      "----------------------------------------------\n",
      "\n",
      "\n",
      "Ahora es el turno de Javiera.\n"
     ]
    },
    {
     "name": "stdin",
     "output_type": "stream",
     "text": [
      "Javiera, escoge una carta:  01\n"
     ]
    },
    {
     "name": "stdout",
     "output_type": "stream",
     "text": [
      "        00        \n",
      "      2♠  9♦      \n",
      "    J♠  6♦  8♠    \n",
      "  2♦  8♣  5♥  A♥  \n",
      "4♠  K♦  3♠  J♥  Q♦\n",
      "\n",
      "Javiera, te salvaste!\n",
      "\n",
      "La carta escogida es: 2♠\n",
      "\n",
      "Tu mano es: ['3♣', '5♣', 'J♣', 'K♥', 'K♣', '4♥']\n",
      "\n",
      "Octavio, te salvaste!\n",
      "\n",
      "La mano de Octavio es :['9♥', '3♦', '5♠', 'K♠', '7♦', '5♦']\n",
      "\n",
      "Ahora es el turno de Octavio.\n",
      "\n",
      "----------------------------------------------\n",
      "\n"
     ]
    },
    {
     "name": "stdin",
     "output_type": "stream",
     "text": [
      "Octavio, escoge una carta:  00\n"
     ]
    },
    {
     "name": "stdout",
     "output_type": "stream",
     "text": [
      "        A♣        \n",
      "      2♠  9♦      \n",
      "    J♠  6♦  8♠    \n",
      "  2♦  8♣  5♥  A♥  \n",
      "4♠  K♦  3♠  J♥  Q♦\n",
      "\n",
      "Octavio, te salvaste!\n",
      "\n",
      "La carta escogida es: A♣\n",
      "\n",
      "Tu mano es: ['9♥', '3♦', '5♠', 'K♠', '7♦', '5♦']\n",
      "\n",
      "Javiera, te salvaste!\n",
      "\n",
      "La mano de Javiera es :['3♣', '5♣', 'J♣', 'K♥', 'K♣', '4♥']\n",
      "\n",
      "----------------------------------------------\n",
      "\n"
     ]
    },
    {
     "data": {
      "text/plain": [
       "'FELICIDADES ESTAN BORRACHOS'"
      ]
     },
     "execution_count": 13,
     "metadata": {},
     "output_type": "execute_result"
    }
   ],
   "source": [
    "jugadores = []\n",
    "\n",
    "while len(jugadores) < 2:\n",
    "    jugadores.append(input(\"Nombre jugador 1: \"))\n",
    "    jugadores.append(input(\"Nombre jugador 2: \"))\n",
    "\n",
    "pinta = ['♣','♦','♠','♥']\n",
    "valores = ['A','2','3','4','5','6','7','8','9','10','J','Q','K']\n",
    "\n",
    "mazo_cartas = []\n",
    "\n",
    "for elemento in pinta:\n",
    "    for valor in valores:\n",
    "        mazo_cartas.append(str(valor)+elemento)\n",
    "        \n",
    "import random\n",
    "\n",
    "cartas_piramide = random.sample(mazo_cartas, 15) # Escogemos 15 cartas al azar para armar la pirámide.\n",
    "cartas_after_piramide = [] # Creamos una lista con las cartas que quedan después de armar la pirámide.\n",
    "\n",
    "for carta in cartas_piramide:\n",
    "    if carta in mazo_cartas:\n",
    "        cartas_after_piramide = set(mazo_cartas) - set(cartas_piramide)\n",
    "\n",
    "import warnings\n",
    "warnings.filterwarnings(\"ignore\")\n",
    "\n",
    "mano_jugador1 = random.sample(cartas_after_piramide, 6)\n",
    "for carta in mano_jugador1:\n",
    "    cartas_after_piramide.remove(carta)\n",
    "    mano_jugador2 = random.sample(cartas_after_piramide, 6)\n",
    "print(f'La mano de {jugadores[0]} es {mano_jugador1}.\\nLa mano de {jugadores[1]} es {mano_jugador2}')\n",
    "mano_jugador1_valores = []\n",
    "mano_jugador2_valores = []\n",
    "\n",
    "for x in mano_jugador1:\n",
    "    mano_jugador1_valores.append(x[:-1])\n",
    "for y in mano_jugador2:\n",
    "    mano_jugador2_valores.append(y[:-1])\n",
    "    \n",
    "    \n",
    "volteadas = {card:str(cartas_piramide.index(card)).zfill(2) for card in cartas_piramide}\n",
    "\n",
    "def print_carta(*cartas):\n",
    "        cartas = [volteadas.get(carta, i) for carta in cartas]\n",
    "        juntos = '  '.join(cartas)\n",
    "        print('{:^18s}'.format(juntos))\n",
    "\n",
    "cartas_piramide_copia = cartas_piramide.copy()\n",
    "    \n",
    "for i in range(1,6):\n",
    "    renglon = []\n",
    "    for _ in range(i):\n",
    "        renglon.append(cartas_piramide_copia.pop(0))\n",
    "    print_carta(*renglon) \n",
    "    \n",
    "n_volteadas = []    \n",
    "\n",
    "def juego (coordenada1):\n",
    "        \n",
    "    print(f'\\n----------------------------------------------\\n')\n",
    "    coordenada1 = input(f'{jugadores[0]}, escoge una carta: ')\n",
    "    \n",
    "    n_volteadas.append(coordenada1)\n",
    "    \n",
    "    indice = int(coordenada1)\n",
    "    carta = cartas_piramide[indice]\n",
    "    volteadas[carta] = carta\n",
    "    \n",
    "    cartas_piramide_copia = cartas_piramide.copy()\n",
    "                  \n",
    "    for i in range(1,6):\n",
    "        renglon = []\n",
    "        for _ in range(i):\n",
    "            renglon.append(cartas_piramide_copia.pop(0))\n",
    "        print_carta(*renglon)\n",
    "        \n",
    "    if carta[:-1] not in mano_jugador1_valores:\n",
    "        print(f'\\n{jugadores[0]}, te salvaste!')\n",
    "    if carta[:-1] in mano_jugador1_valores:\n",
    "        print(f'\\n{jugadores[0]}, bebe 5 segundos!')    \n",
    "    print(f'\\nLa carta escogida es: {carta}')\n",
    "    print(f'\\nTu mano es: {mano_jugador1}')\n",
    "    \n",
    "    if carta[:-1] not in mano_jugador2_valores:\n",
    "        print(f'\\n{jugadores[1]}, te salvaste!')\n",
    "    if carta[:-1] in mano_jugador2_valores:\n",
    "        print(f'\\n{jugadores[1]}, bebe 5 segundos!')\n",
    "    print(f'\\nLa mano de {jugadores[1]} es :{mano_jugador2}')\n",
    "    \n",
    "    print(f'\\n----------------------------------------------\\n')\n",
    "    \n",
    "    if len(n_volteadas) == 15:\n",
    "        return 'FELICIDADES ESTAN BORRACHOS'\n",
    "    print(f'\\nAhora es el turno de {jugadores[1]}.')\n",
    "    \n",
    "    \n",
    "    coordenada2 = input(f'{jugadores[1]}, escoge una carta: ')\n",
    "    \n",
    "    n_volteadas.append(coordenada2)\n",
    "    \n",
    "    indice = int(coordenada2)\n",
    "    carta = cartas_piramide[indice]\n",
    "    volteadas[carta] = carta\n",
    "    \n",
    "\n",
    "    cartas_piramide_copia = cartas_piramide.copy()      \n",
    "    \n",
    "    for i in range(1,6):\n",
    "        renglon = []\n",
    "        for _ in range(i):\n",
    "            renglon.append(cartas_piramide_copia.pop(0))\n",
    "        print_carta(*renglon)\n",
    "\n",
    "    if carta[:-1] not in mano_jugador2_valores:\n",
    "        print(f'\\n{jugadores[1]}, te salvaste!')\n",
    "    if carta[:-1] in mano_jugador2_valores:\n",
    "        print(f'\\n{jugadores[1]}, bebe 5 segundos!')    \n",
    "    print(f'\\nLa carta escogida es: {carta}')\n",
    "    print(f'\\nTu mano es: {mano_jugador2}')\n",
    "    \n",
    "    if carta[:-1] not in mano_jugador1_valores:\n",
    "        print(f'\\n{jugadores[0]}, te salvaste!')\n",
    "    if carta[:-1] in mano_jugador1_valores:\n",
    "        print(f'\\n{jugadores[0]}, bebe 5 segundos!')\n",
    "    print(f'\\nLa mano de {jugadores[0]} es :{mano_jugador1}')\n",
    "    print(f'\\nAhora es el turno de {jugadores[0]}.')\n",
    "    \n",
    "    if len(n_volteadas) == 15:\n",
    "        return 'FELICIDADES ESTAN BORRACHOS'\n",
    "    else:\n",
    "        return juego(coordenada1)\n",
    "juego(0)"
   ]
  },
  {
   "cell_type": "code",
   "execution_count": null,
   "id": "3af02b43-3f1b-4501-b974-56752a525241",
   "metadata": {
    "collapsed": true,
    "jupyter": {
     "outputs_hidden": true,
     "source_hidden": true
    },
    "tags": []
   },
   "outputs": [],
   "source": []
  },
  {
   "cell_type": "code",
   "execution_count": null,
   "id": "fa0a1dd1-8bcf-4f10-ace7-3407c8d0c04a",
   "metadata": {
    "collapsed": true,
    "jupyter": {
     "outputs_hidden": true,
     "source_hidden": true
    }
   },
   "outputs": [],
   "source": []
  },
  {
   "cell_type": "code",
   "execution_count": null,
   "id": "9e47c085-fc25-4d7b-ba58-e2c3951b1fa0",
   "metadata": {
    "collapsed": true,
    "jupyter": {
     "outputs_hidden": true,
     "source_hidden": true
    }
   },
   "outputs": [],
   "source": []
  },
  {
   "cell_type": "code",
   "execution_count": null,
   "id": "fb1991e9-6876-4383-9643-4db1581c977c",
   "metadata": {
    "collapsed": true,
    "jupyter": {
     "outputs_hidden": true,
     "source_hidden": true
    }
   },
   "outputs": [],
   "source": []
  }
 ],
 "metadata": {
  "kernelspec": {
   "display_name": "Python 3 (ipykernel)",
   "language": "python",
   "name": "python3"
  },
  "language_info": {
   "codemirror_mode": {
    "name": "ipython",
    "version": 3
   },
   "file_extension": ".py",
   "mimetype": "text/x-python",
   "name": "python",
   "nbconvert_exporter": "python",
   "pygments_lexer": "ipython3",
   "version": "3.9.7"
  }
 },
 "nbformat": 4,
 "nbformat_minor": 5
}
