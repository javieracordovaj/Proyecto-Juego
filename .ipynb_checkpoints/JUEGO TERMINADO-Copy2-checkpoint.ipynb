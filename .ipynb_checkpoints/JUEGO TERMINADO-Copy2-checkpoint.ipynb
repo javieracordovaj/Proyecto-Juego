{
 "cells": [
  {
   "cell_type": "code",
   "execution_count": 27,
   "id": "f0eaa6c7-8875-48b6-9679-d28b9855c193",
   "metadata": {},
   "outputs": [
    {
     "name": "stdin",
     "output_type": "stream",
     "text": [
      "Nombre jugador 1:  Octavio\n",
      "Nombre jugador 2:  Javiera\n"
     ]
    },
    {
     "name": "stdout",
     "output_type": "stream",
     "text": [
      "La mano de Octavio es ['7♣', 'A♦', '10♣', '2♣', 'Q♠', '7♠'].\n",
      "La mano de Javiera es ['A♠', '7♥', '6♣', 'K♣', '2♦', '4♦']\n",
      "        00        \n",
      "      01  02      \n",
      "    03  04  05    \n",
      "  06  07  08  09  \n",
      "10  11  12  13  14\n",
      "\n",
      "----------------------------------------------\n",
      "\n"
     ]
    },
    {
     "name": "stdin",
     "output_type": "stream",
     "text": [
      "Octavio, escoge una carta de la piramide:  14\n"
     ]
    },
    {
     "name": "stdout",
     "output_type": "stream",
     "text": [
      "        00        \n",
      "      01  02      \n",
      "    03  04  05    \n",
      "  06  07  08  09  \n",
      "10  11  12  13  Q♥\n",
      "\n",
      "Octavio, bebe 5 segundos!\n",
      "\n",
      "La carta escogida es: Q♥\n",
      "\n",
      "Tu mano es: ['7♣', 'A♦', '10♣', '2♣', 'Q♠', '7♠']\n",
      "\n",
      "Javiera, te salvaste!\n",
      "\n",
      "La mano de Javiera es :['A♠', '7♥', '6♣', 'K♣', '2♦', '4♦']\n",
      "\n",
      "----------------------------------------------\n",
      "\n"
     ]
    },
    {
     "name": "stdin",
     "output_type": "stream",
     "text": [
      "Javiera, escoge una carta de la piramide:  13\n"
     ]
    },
    {
     "name": "stdout",
     "output_type": "stream",
     "text": [
      "        00        \n",
      "      01  02      \n",
      "    03  04  05    \n",
      "  06  07  08  09  \n",
      "10  11  12  5♠  Q♥\n",
      "\n",
      "Javiera, te salvaste!\n",
      "\n",
      "La carta escogida es: 5♠\n",
      "\n",
      "Tu mano es: ['A♠', '7♥', '6♣', 'K♣', '2♦', '4♦']\n",
      "\n",
      "Octavio, te salvaste!\n",
      "\n",
      "La mano de Octavio es :['7♣', 'A♦', '10♣', '2♣', 'Q♠', '7♠']\n",
      "\n",
      "----------------------------------------------\n",
      "\n"
     ]
    },
    {
     "name": "stdin",
     "output_type": "stream",
     "text": [
      "Octavio, escoge una carta de la piramide:  12\n"
     ]
    },
    {
     "name": "stdout",
     "output_type": "stream",
     "text": [
      "        00        \n",
      "      01  02      \n",
      "    03  04  05    \n",
      "  06  07  08  09  \n",
      "10  11  10♥  5♠  Q♥\n",
      "\n",
      "Octavio, bebe 5 segundos!\n",
      "\n",
      "La carta escogida es: 10♥\n",
      "\n",
      "Tu mano es: ['7♣', 'A♦', '10♣', '2♣', 'Q♠', '7♠']\n",
      "\n",
      "Javiera, te salvaste!\n",
      "\n",
      "La mano de Javiera es :['A♠', '7♥', '6♣', 'K♣', '2♦', '4♦']\n",
      "\n",
      "----------------------------------------------\n",
      "\n"
     ]
    },
    {
     "name": "stdin",
     "output_type": "stream",
     "text": [
      "Javiera, escoge una carta de la piramide:  11\n"
     ]
    },
    {
     "name": "stdout",
     "output_type": "stream",
     "text": [
      "        00        \n",
      "      01  02      \n",
      "    03  04  05    \n",
      "  06  07  08  09  \n",
      "10  8♠  10♥  5♠  Q♥\n",
      "\n",
      "Javiera, te salvaste!\n",
      "\n",
      "La carta escogida es: 8♠\n",
      "\n",
      "Tu mano es: ['A♠', '7♥', '6♣', 'K♣', '2♦', '4♦']\n",
      "\n",
      "Octavio, te salvaste!\n",
      "\n",
      "La mano de Octavio es :['7♣', 'A♦', '10♣', '2♣', 'Q♠', '7♠']\n",
      "\n",
      "----------------------------------------------\n",
      "\n"
     ]
    },
    {
     "name": "stdin",
     "output_type": "stream",
     "text": [
      "Octavio, escoge una carta de la piramide:  10\n"
     ]
    },
    {
     "name": "stdout",
     "output_type": "stream",
     "text": [
      "        00        \n",
      "      01  02      \n",
      "    03  04  05    \n",
      "  06  07  08  09  \n",
      "2♥  8♠  10♥  5♠  Q♥\n",
      "\n",
      "Octavio, bebe 5 segundos!\n",
      "\n",
      "La carta escogida es: 2♥\n",
      "\n",
      "Tu mano es: ['7♣', 'A♦', '10♣', '2♣', 'Q♠', '7♠']\n",
      "\n",
      "Javiera, bebe 5 segundos!\n",
      "\n",
      "La mano de Javiera es :['A♠', '7♥', '6♣', 'K♣', '2♦', '4♦']\n",
      "\n",
      "----------------------------------------------\n",
      "\n"
     ]
    },
    {
     "name": "stdin",
     "output_type": "stream",
     "text": [
      "Javiera, escoge una carta de la piramide:  09\n"
     ]
    },
    {
     "name": "stdout",
     "output_type": "stream",
     "text": [
      "        00        \n",
      "      01  02      \n",
      "    03  04  05    \n",
      "  06  07  08  6♦  \n",
      "2♥  8♠  10♥  5♠  Q♥\n",
      "\n",
      "Javiera, bebe 5 segundos!\n",
      "\n",
      "La carta escogida es: 6♦\n",
      "\n",
      "Tu mano es: ['A♠', '7♥', '6♣', 'K♣', '2♦', '4♦']\n",
      "\n",
      "Octavio, te salvaste!\n",
      "\n",
      "La mano de Octavio es :['7♣', 'A♦', '10♣', '2♣', 'Q♠', '7♠']\n",
      "\n",
      "----------------------------------------------\n",
      "\n"
     ]
    },
    {
     "name": "stdin",
     "output_type": "stream",
     "text": [
      "Octavio, escoge una carta de la piramide:  08\n"
     ]
    },
    {
     "name": "stdout",
     "output_type": "stream",
     "text": [
      "        00        \n",
      "      01  02      \n",
      "    03  04  05    \n",
      "  06  07  2♠  6♦  \n",
      "2♥  8♠  10♥  5♠  Q♥\n",
      "\n",
      "Octavio, bebe 5 segundos!\n",
      "\n",
      "La carta escogida es: 2♠\n",
      "\n",
      "Tu mano es: ['7♣', 'A♦', '10♣', '2♣', 'Q♠', '7♠']\n",
      "\n",
      "Javiera, bebe 5 segundos!\n",
      "\n",
      "La mano de Javiera es :['A♠', '7♥', '6♣', 'K♣', '2♦', '4♦']\n",
      "\n",
      "----------------------------------------------\n",
      "\n"
     ]
    },
    {
     "name": "stdin",
     "output_type": "stream",
     "text": [
      "Javiera, escoge una carta de la piramide:  07\n"
     ]
    },
    {
     "name": "stdout",
     "output_type": "stream",
     "text": [
      "        00        \n",
      "      01  02      \n",
      "    03  04  05    \n",
      "  06  A♥  2♠  6♦  \n",
      "2♥  8♠  10♥  5♠  Q♥\n",
      "\n",
      "Javiera, bebe 5 segundos!\n",
      "\n",
      "La carta escogida es: A♥\n",
      "\n",
      "Tu mano es: ['A♠', '7♥', '6♣', 'K♣', '2♦', '4♦']\n",
      "\n",
      "Octavio, bebe 5 segundos!\n",
      "\n",
      "La mano de Octavio es :['7♣', 'A♦', '10♣', '2♣', 'Q♠', '7♠']\n",
      "\n",
      "----------------------------------------------\n",
      "\n"
     ]
    },
    {
     "name": "stdin",
     "output_type": "stream",
     "text": [
      "Octavio, escoge una carta de la piramide:  06\n"
     ]
    },
    {
     "name": "stdout",
     "output_type": "stream",
     "text": [
      "        00        \n",
      "      01  02      \n",
      "    03  04  05    \n",
      "  8♣  A♥  2♠  6♦  \n",
      "2♥  8♠  10♥  5♠  Q♥\n",
      "\n",
      "Octavio, te salvaste!\n",
      "\n",
      "La carta escogida es: 8♣\n",
      "\n",
      "Tu mano es: ['7♣', 'A♦', '10♣', '2♣', 'Q♠', '7♠']\n",
      "\n",
      "Javiera, te salvaste!\n",
      "\n",
      "La mano de Javiera es :['A♠', '7♥', '6♣', 'K♣', '2♦', '4♦']\n",
      "\n",
      "----------------------------------------------\n",
      "\n"
     ]
    },
    {
     "name": "stdin",
     "output_type": "stream",
     "text": [
      "Javiera, escoge una carta de la piramide:  05\n"
     ]
    },
    {
     "name": "stdout",
     "output_type": "stream",
     "text": [
      "        00        \n",
      "      01  02      \n",
      "   03  04  10♠    \n",
      "  8♣  A♥  2♠  6♦  \n",
      "2♥  8♠  10♥  5♠  Q♥\n",
      "\n",
      "Javiera, te salvaste!\n",
      "\n",
      "La carta escogida es: 10♠\n",
      "\n",
      "Tu mano es: ['A♠', '7♥', '6♣', 'K♣', '2♦', '4♦']\n",
      "\n",
      "Octavio, bebe 5 segundos!\n",
      "\n",
      "La mano de Octavio es :['7♣', 'A♦', '10♣', '2♣', 'Q♠', '7♠']\n",
      "\n",
      "----------------------------------------------\n",
      "\n"
     ]
    },
    {
     "name": "stdin",
     "output_type": "stream",
     "text": [
      "Octavio, escoge una carta de la piramide:  04\n"
     ]
    },
    {
     "name": "stdout",
     "output_type": "stream",
     "text": [
      "        00        \n",
      "      01  02      \n",
      "   03  5♦  10♠    \n",
      "  8♣  A♥  2♠  6♦  \n",
      "2♥  8♠  10♥  5♠  Q♥\n",
      "\n",
      "Octavio, te salvaste!\n",
      "\n",
      "La carta escogida es: 5♦\n",
      "\n",
      "Tu mano es: ['7♣', 'A♦', '10♣', '2♣', 'Q♠', '7♠']\n",
      "\n",
      "Javiera, te salvaste!\n",
      "\n",
      "La mano de Javiera es :['A♠', '7♥', '6♣', 'K♣', '2♦', '4♦']\n",
      "\n",
      "----------------------------------------------\n",
      "\n"
     ]
    },
    {
     "name": "stdin",
     "output_type": "stream",
     "text": [
      "Javiera, escoge una carta de la piramide:  03\n"
     ]
    },
    {
     "name": "stdout",
     "output_type": "stream",
     "text": [
      "        00        \n",
      "      01  02      \n",
      "   8♦  5♦  10♠    \n",
      "  8♣  A♥  2♠  6♦  \n",
      "2♥  8♠  10♥  5♠  Q♥\n",
      "\n",
      "Javiera, te salvaste!\n",
      "\n",
      "La carta escogida es: 8♦\n",
      "\n",
      "Tu mano es: ['A♠', '7♥', '6♣', 'K♣', '2♦', '4♦']\n",
      "\n",
      "Octavio, te salvaste!\n",
      "\n",
      "La mano de Octavio es :['7♣', 'A♦', '10♣', '2♣', 'Q♠', '7♠']\n",
      "\n",
      "----------------------------------------------\n",
      "\n"
     ]
    },
    {
     "name": "stdin",
     "output_type": "stream",
     "text": [
      "Octavio, escoge una carta de la piramide:  02\n"
     ]
    },
    {
     "name": "stdout",
     "output_type": "stream",
     "text": [
      "        00        \n",
      "      01  5♥      \n",
      "   8♦  5♦  10♠    \n",
      "  8♣  A♥  2♠  6♦  \n",
      "2♥  8♠  10♥  5♠  Q♥\n",
      "\n",
      "Octavio, te salvaste!\n",
      "\n",
      "La carta escogida es: 5♥\n",
      "\n",
      "Tu mano es: ['7♣', 'A♦', '10♣', '2♣', 'Q♠', '7♠']\n",
      "\n",
      "Javiera, te salvaste!\n",
      "\n",
      "La mano de Javiera es :['A♠', '7♥', '6♣', 'K♣', '2♦', '4♦']\n",
      "\n",
      "----------------------------------------------\n",
      "\n"
     ]
    },
    {
     "name": "stdin",
     "output_type": "stream",
     "text": [
      "Javiera, escoge una carta de la piramide:  01\n"
     ]
    },
    {
     "name": "stdout",
     "output_type": "stream",
     "text": [
      "        00        \n",
      "      A♣  5♥      \n",
      "   8♦  5♦  10♠    \n",
      "  8♣  A♥  2♠  6♦  \n",
      "2♥  8♠  10♥  5♠  Q♥\n",
      "\n",
      "Javiera, bebe 5 segundos!\n",
      "\n",
      "La carta escogida es: A♣\n",
      "\n",
      "Tu mano es: ['A♠', '7♥', '6♣', 'K♣', '2♦', '4♦']\n",
      "\n",
      "Octavio, bebe 5 segundos!\n",
      "\n",
      "La mano de Octavio es :['7♣', 'A♦', '10♣', '2♣', 'Q♠', '7♠']\n",
      "\n",
      "----------------------------------------------\n",
      "\n"
     ]
    },
    {
     "name": "stdin",
     "output_type": "stream",
     "text": [
      "Octavio, escoge una carta de la piramide:  00\n"
     ]
    },
    {
     "name": "stdout",
     "output_type": "stream",
     "text": [
      "        J♦        \n",
      "      A♣  5♥      \n",
      "   8♦  5♦  10♠    \n",
      "  8♣  A♥  2♠  6♦  \n",
      "2♥  8♠  10♥  5♠  Q♥\n",
      "\n",
      "Octavio, te salvaste!\n",
      "\n",
      "La carta escogida es: J♦\n",
      "\n",
      "Tu mano es: ['7♣', 'A♦', '10♣', '2♣', 'Q♠', '7♠']\n",
      "\n",
      "Javiera, te salvaste!\n",
      "\n",
      "La mano de Javiera es :['A♠', '7♥', '6♣', 'K♣', '2♦', '4♦']\n"
     ]
    }
   ],
   "source": [
    "jugadores = []\n",
    "\n",
    "while len(jugadores) < 2:\n",
    "    jugadores.append(input(\"Nombre jugador 1: \"))\n",
    "    jugadores.append(input(\"Nombre jugador 2: \"))\n",
    "\n",
    "pinta = ['♣','♦','♠','♥']\n",
    "valores = ['A','2','3','4','5','6','7','8','9','10','J','Q','K']\n",
    "\n",
    "mazo_cartas = []\n",
    "\n",
    "for elemento in pinta:\n",
    "    for valor in valores:\n",
    "        mazo_cartas.append(str(valor)+elemento)\n",
    "        \n",
    "import random\n",
    "\n",
    "cartas_piramide = random.sample(mazo_cartas, 15) # Escogemos 15 cartas al azar para armar la pirámide.\n",
    "cartas_after_piramide = [] # Creamos una lista con las cartas que quedan después de armar la pirámide.\n",
    "\n",
    "for carta in cartas_piramide:\n",
    "    if carta in mazo_cartas:\n",
    "        cartas_after_piramide = set(mazo_cartas) - set(cartas_piramide)\n",
    "\n",
    "import warnings\n",
    "warnings.filterwarnings(\"ignore\")\n",
    "\n",
    "mano_jugador1 = random.sample(cartas_after_piramide, 6)\n",
    "for carta in mano_jugador1:\n",
    "    cartas_after_piramide.remove(carta)\n",
    "    mano_jugador2 = random.sample(cartas_after_piramide, 6)\n",
    "print(f'La mano de {jugadores[0]} es {mano_jugador1}.\\nLa mano de {jugadores[1]} es {mano_jugador2}')\n",
    "mano_jugador1_valores = []\n",
    "mano_jugador2_valores = []\n",
    "\n",
    "for x in mano_jugador1:\n",
    "    mano_jugador1_valores.append(x[:-1])\n",
    "for y in mano_jugador2:\n",
    "    mano_jugador2_valores.append(y[:-1])\n",
    "    \n",
    "    \n",
    "volteadas = {card:str(cartas_piramide.index(card)).zfill(2) for card in cartas_piramide}\n",
    "\n",
    "def print_carta(*cartas):\n",
    "        cartas = [volteadas.get(carta, i) for carta in cartas]\n",
    "        juntos = '  '.join(cartas)\n",
    "        print('{:^18s}'.format(juntos))\n",
    "\n",
    "cartas_piramide_copia = cartas_piramide.copy()\n",
    "    \n",
    "for i in range(1,6):\n",
    "    renglon = []\n",
    "    for _ in range(i):\n",
    "        renglon.append(cartas_piramide_copia.pop(0))\n",
    "    print_carta(*renglon) \n",
    "    \n",
    "def juego ():\n",
    "    \n",
    "    n_volteadas = []\n",
    "    \n",
    "    def turno1(coordenada1):\n",
    "    \n",
    "        print(f'\\n----------------------------------------------\\n')\n",
    "        coordenada1 = input(f'{jugadores[0]}, escoge una carta de la piramide: ')\n",
    "        \n",
    "        if coordenada1 not in volteadas.values():\n",
    "            return turno1(coordenada1)\n",
    "\n",
    "        n_volteadas.append(coordenada1)\n",
    "    \n",
    "        indice = int(coordenada1)\n",
    "        carta = cartas_piramide[indice]\n",
    "        volteadas[carta] = carta\n",
    "    \n",
    "        cartas_piramide_copia = cartas_piramide.copy()\n",
    "                  \n",
    "        for i in range(1,6):\n",
    "            renglon = []\n",
    "            for _ in range(i):\n",
    "                renglon.append(cartas_piramide_copia.pop(0))\n",
    "            print_carta(*renglon)\n",
    "        \n",
    "        if carta[:-1] not in mano_jugador1_valores:\n",
    "            print(f'\\n{jugadores[0]}, te salvaste!')\n",
    "        if carta[:-1] in mano_jugador1_valores:\n",
    "            print(f'\\n{jugadores[0]}, bebe 5 segundos!')    \n",
    "        print(f'\\nLa carta escogida es: {carta}')\n",
    "        print(f'\\nTu mano es: {mano_jugador1}')\n",
    "    \n",
    "        if carta[:-1] not in mano_jugador2_valores:\n",
    "            print(f'\\n{jugadores[1]}, te salvaste!')\n",
    "        if carta[:-1] in mano_jugador2_valores:\n",
    "            print(f'\\n{jugadores[1]}, bebe 5 segundos!')\n",
    "        print(f'\\nLa mano de {jugadores[1]} es :{mano_jugador2}')\n",
    "        turno2(0)\n",
    "        \n",
    "    def turno2(coordenada2):\n",
    "\n",
    "        coordenada2 = input(f'{jugadores[1]}, escoge una carta de la piramide: ')\n",
    "    \n",
    "        if coordenada2 not in volteadas.values():\n",
    "            return turno2(coordenada2)\n",
    "        \n",
    "        n_volteadas.append(coordenada2)\n",
    "    \n",
    "        indice = int(coordenada2)\n",
    "        carta = cartas_piramide[indice]\n",
    "        volteadas[carta] = carta\n",
    "    \n",
    "\n",
    "        cartas_piramide_copia = cartas_piramide.copy()      \n",
    "    \n",
    "        for i in range(1,6):\n",
    "            renglon = []\n",
    "            for _ in range(i):\n",
    "                renglon.append(cartas_piramide_copia.pop(0))\n",
    "            print_carta(*renglon)\n",
    "\n",
    "        if carta[:-1] not in mano_jugador2_valores:\n",
    "            print(f'\\n{jugadores[1]}, te salvaste!')\n",
    "        if carta[:-1] in mano_jugador2_valores:\n",
    "            print(f'\\n{jugadores[1]}, bebe 5 segundos!')    \n",
    "        print(f'\\nLa carta escogida es: {carta}')\n",
    "        print(f'\\nTu mano es: {mano_jugador2}')\n",
    "    \n",
    "        if carta[:-1] not in mano_jugador1_valores:\n",
    "            print(f'\\n{jugadores[0]}, te salvaste!')\n",
    "        if carta[:-1] in mano_jugador1_valores:\n",
    "            print(f'\\n{jugadores[0]}, bebe 5 segundos!')\n",
    "        print(f'\\nLa mano de {jugadores[0]} es :{mano_jugador1}')\n",
    "        turno1(0)\n",
    "    turno1(0)\n",
    "juego()"
   ]
  },
  {
   "cell_type": "code",
   "execution_count": null,
   "id": "523faee6-df22-4d11-9eb9-87e56882d953",
   "metadata": {},
   "outputs": [],
   "source": []
  }
 ],
 "metadata": {
  "kernelspec": {
   "display_name": "Python 3 (ipykernel)",
   "language": "python",
   "name": "python3"
  },
  "language_info": {
   "codemirror_mode": {
    "name": "ipython",
    "version": 3
   },
   "file_extension": ".py",
   "mimetype": "text/x-python",
   "name": "python",
   "nbconvert_exporter": "python",
   "pygments_lexer": "ipython3",
   "version": "3.9.7"
  }
 },
 "nbformat": 4,
 "nbformat_minor": 5
}
