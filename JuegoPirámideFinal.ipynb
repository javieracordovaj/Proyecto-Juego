{
 "cells": [
  {
   "cell_type": "code",
   "execution_count": 33,
   "id": "edd279c7-2dce-4e1a-94a2-348074b5ad61",
   "metadata": {
    "tags": []
   },
   "outputs": [
    {
     "name": "stdin",
     "output_type": "stream",
     "text": [
      "Nombre jugador 1:  Javiera\n",
      "Nombre jugador 2:  Cordova\n"
     ]
    }
   ],
   "source": [
    "# En 1er lugar, pedimos los nombres de los jugadores:\n",
    "jugadores = []\n",
    "while len(jugadores) < 2:\n",
    "    jugadores.append(input(\"Nombre jugador 1: \"))\n",
    "    jugadores.append(input(\"Nombre jugador 2: \"))"
   ]
  },
  {
   "cell_type": "code",
   "execution_count": 56,
   "id": "ff913e19-8076-4962-bfac-e8f5a9cb2f3c",
   "metadata": {
    "tags": []
   },
   "outputs": [],
   "source": [
    "# Posteriormente, creamos nuestro mazo de cartas:\n",
    "pinta = ['♣','♦','♠','♥']\n",
    "valores = ['A','2','3','4','5','6','7','8','9','10','J','Q','K']\n",
    "\n",
    "mazo_cartas = []\n",
    "\n",
    "for elemento in pinta:\n",
    "    for valor in valores:\n",
    "        mazo_cartas.append(str(valor)+elemento)"
   ]
  },
  {
   "cell_type": "code",
   "execution_count": 49,
   "id": "187f50cb-1e10-4575-b5b6-578c2820496a",
   "metadata": {
    "tags": []
   },
   "outputs": [],
   "source": [
    "import random\n",
    "\n",
    "cartas_piramide = random.sample(mazo_cartas, 15) # Escogemos 15 cartas al azar para armar la pirámide.\n",
    "cartas_after_piramide = [] # Creamos una lista con las cartas que quedan después de armar la pirámide.\n",
    "\n",
    "for carta in cartas_piramide:\n",
    "    if carta in mazo_cartas:\n",
    "        cartas_after_piramide = set(mazo_cartas) - set(cartas_piramide)"
   ]
  },
  {
   "cell_type": "code",
   "execution_count": 50,
   "id": "5e2851cf-63d7-465a-ab00-bfcb70bb5a1a",
   "metadata": {
    "tags": []
   },
   "outputs": [],
   "source": [
    "# A los valores que verá el usuario para ir escogiendo qué cartas irá volteando, le asignaremos a c/u una carta de nuestras cartas_piramide.\n",
    "volteadas = {card:str(cartas_piramide.index(card)).zfill(2) for card in cartas_piramide}"
   ]
  },
  {
   "cell_type": "code",
   "execution_count": 51,
   "id": "276ab238-8f22-4681-8249-93f55285c791",
   "metadata": {
    "tags": []
   },
   "outputs": [
    {
     "name": "stdout",
     "output_type": "stream",
     "text": [
      "        00        \n",
      "      01  02      \n",
      "    03  04  05    \n",
      "  06  07  08  09  \n",
      "10  11  12  13  14\n"
     ]
    }
   ],
   "source": [
    "# Armaremos la pirámide que verá el usuario, con las cartas ocultas, donde se podrá acceder a ellas mediante índices:\n",
    "## Gracias por tanto y perdón por tan poco Zahid!\n",
    "def print_carta(*cartas):\n",
    "    cartas = [volteadas.get(carta, i) for carta in cartas]\n",
    "    juntos = '  '.join(cartas)\n",
    "    print('{:^18s}'.format(juntos))\n",
    "\n",
    "cartas_piramide_copia = cartas_piramide.copy()\n",
    "    \n",
    "for i in range(1,6):\n",
    "    renglon = []\n",
    "    for _ in range(i):\n",
    "        renglon.append(cartas_piramide_copia.pop(0))\n",
    "    print_carta(*renglon) # Acá estaría faltando ordenar los números para que el 14 vaya en la punta de la pirámide.\n",
    "                          ## No alcanzamos, así que problemas del futuro"
   ]
  },
  {
   "cell_type": "code",
   "execution_count": 52,
   "id": "3bdcf9fe-d973-49f1-b6ff-00b2d7f47d55",
   "metadata": {
    "tags": []
   },
   "outputs": [
    {
     "name": "stdout",
     "output_type": "stream",
     "text": [
      "La mano de Javiera es ['3♣', '9♦', '10♥', '8♦', '9♥', 'A♦'].\n",
      "La mano de Cordova es ['10♣', '6♣', '5♦', 'K♦', '4♠', '8♠']\n"
     ]
    },
    {
     "name": "stderr",
     "output_type": "stream",
     "text": [
      "C:\\Users\\javie\\AppData\\Local\\Temp/ipykernel_48580/3193459752.py:2: DeprecationWarning: Sampling from a set deprecated\n",
      "since Python 3.9 and will be removed in a subsequent version.\n",
      "  mano_jugador1 = random.sample(cartas_after_piramide, 6)\n",
      "C:\\Users\\javie\\AppData\\Local\\Temp/ipykernel_48580/3193459752.py:5: DeprecationWarning: Sampling from a set deprecated\n",
      "since Python 3.9 and will be removed in a subsequent version.\n",
      "  mano_jugador2 = random.sample(cartas_after_piramide, 6)\n"
     ]
    }
   ],
   "source": [
    "# Las cartas seleccionadas las repartiremos al azar a nuestros jugadores:\n",
    "mano_jugador1 = random.sample(cartas_after_piramide, 6)\n",
    "for carta in mano_jugador1:\n",
    "    cartas_after_piramide.remove(carta)\n",
    "    mano_jugador2 = random.sample(cartas_after_piramide, 6)\n",
    "print(f'La mano de {jugadores[0]} es {mano_jugador1}.\\nLa mano de {jugadores[1]} es {mano_jugador2}')"
   ]
  },
  {
   "cell_type": "code",
   "execution_count": 54,
   "id": "4d446a0c-a3d3-4674-ab38-3e0921d83481",
   "metadata": {
    "tags": []
   },
   "outputs": [],
   "source": [
    "# Extraeré solamente los valores de cada carta de la mano de los jugadores (sin la pinta), para así más adelante hacer la igualdad con las cartas de la pirámide.\n",
    "## Esto es una futura mejora, ya que nos faltó tiempo para mejorar el juego y no tener que hacer este paso.\n",
    "mano_jugador1_valores = []\n",
    "mano_jugador2_valores = []\n",
    "\n",
    "for x in mano_jugador1:\n",
    "    mano_jugador1_valores.append(x[:-1])\n",
    "for y in mano_jugador2:\n",
    "    mano_jugador2_valores.append(y[:-1])"
   ]
  },
  {
   "cell_type": "code",
   "execution_count": 55,
   "id": "f0eaa6c7-8875-48b6-9679-d28b9855c193",
   "metadata": {
    "tags": []
   },
   "outputs": [
    {
     "ename": "KeyboardInterrupt",
     "evalue": "Interrupted by user",
     "output_type": "error",
     "traceback": [
      "\u001b[1;31m---------------------------------------------------------------------------\u001b[0m",
      "\u001b[1;31mKeyboardInterrupt\u001b[0m                         Traceback (most recent call last)",
      "\u001b[1;32m~\\AppData\\Local\\Temp/ipykernel_48580/30280074.py\u001b[0m in \u001b[0;36m<module>\u001b[1;34m\u001b[0m\n\u001b[0;32m      1\u001b[0m \u001b[1;31m# Ahora empezaremos con la función para que nuestro usuario comience a seleccionar las cartas.\u001b[0m\u001b[1;33m\u001b[0m\u001b[1;33m\u001b[0m\u001b[0m\n\u001b[0;32m      2\u001b[0m \u001b[1;31m## Lo siguiente también nos quedó a medio camino, ya que intentamos escribir sólo 1 vez el código, no las 14 que lo escribimos, pero tampoco nos funcionó, así que también lo mejoraremos.\u001b[0m\u001b[1;33m\u001b[0m\u001b[1;33m\u001b[0m\u001b[0m\n\u001b[1;32m----> 3\u001b[1;33m \u001b[0mcoordenada1\u001b[0m \u001b[1;33m=\u001b[0m \u001b[0minput\u001b[0m\u001b[1;33m(\u001b[0m\u001b[1;34mf'{jugadores[0]}, escoge una carta: '\u001b[0m\u001b[1;33m)\u001b[0m\u001b[1;33m\u001b[0m\u001b[1;33m\u001b[0m\u001b[0m\n\u001b[0m\u001b[0;32m      4\u001b[0m \u001b[0mindice\u001b[0m \u001b[1;33m=\u001b[0m \u001b[0mint\u001b[0m\u001b[1;33m(\u001b[0m\u001b[0mcoordenada1\u001b[0m\u001b[1;33m)\u001b[0m\u001b[1;33m\u001b[0m\u001b[1;33m\u001b[0m\u001b[0m\n\u001b[0;32m      5\u001b[0m \u001b[0mcarta\u001b[0m \u001b[1;33m=\u001b[0m \u001b[0mcartas_piramide\u001b[0m\u001b[1;33m[\u001b[0m\u001b[0mindice\u001b[0m\u001b[1;33m]\u001b[0m\u001b[1;33m\u001b[0m\u001b[1;33m\u001b[0m\u001b[0m\n",
      "\u001b[1;32m~\\anaconda3\\lib\\site-packages\\ipykernel\\kernelbase.py\u001b[0m in \u001b[0;36mraw_input\u001b[1;34m(self, prompt)\u001b[0m\n\u001b[0;32m   1004\u001b[0m                 \u001b[1;34m\"raw_input was called, but this frontend does not support input requests.\"\u001b[0m\u001b[1;33m\u001b[0m\u001b[1;33m\u001b[0m\u001b[0m\n\u001b[0;32m   1005\u001b[0m             )\n\u001b[1;32m-> 1006\u001b[1;33m         return self._input_request(\n\u001b[0m\u001b[0;32m   1007\u001b[0m             \u001b[0mstr\u001b[0m\u001b[1;33m(\u001b[0m\u001b[0mprompt\u001b[0m\u001b[1;33m)\u001b[0m\u001b[1;33m,\u001b[0m\u001b[1;33m\u001b[0m\u001b[1;33m\u001b[0m\u001b[0m\n\u001b[0;32m   1008\u001b[0m             \u001b[0mself\u001b[0m\u001b[1;33m.\u001b[0m\u001b[0m_parent_ident\u001b[0m\u001b[1;33m[\u001b[0m\u001b[1;34m\"shell\"\u001b[0m\u001b[1;33m]\u001b[0m\u001b[1;33m,\u001b[0m\u001b[1;33m\u001b[0m\u001b[1;33m\u001b[0m\u001b[0m\n",
      "\u001b[1;32m~\\anaconda3\\lib\\site-packages\\ipykernel\\kernelbase.py\u001b[0m in \u001b[0;36m_input_request\u001b[1;34m(self, prompt, ident, parent, password)\u001b[0m\n\u001b[0;32m   1049\u001b[0m             \u001b[1;32mexcept\u001b[0m \u001b[0mKeyboardInterrupt\u001b[0m\u001b[1;33m:\u001b[0m\u001b[1;33m\u001b[0m\u001b[1;33m\u001b[0m\u001b[0m\n\u001b[0;32m   1050\u001b[0m                 \u001b[1;31m# re-raise KeyboardInterrupt, to truncate traceback\u001b[0m\u001b[1;33m\u001b[0m\u001b[1;33m\u001b[0m\u001b[0m\n\u001b[1;32m-> 1051\u001b[1;33m                 \u001b[1;32mraise\u001b[0m \u001b[0mKeyboardInterrupt\u001b[0m\u001b[1;33m(\u001b[0m\u001b[1;34m\"Interrupted by user\"\u001b[0m\u001b[1;33m)\u001b[0m \u001b[1;32mfrom\u001b[0m \u001b[1;32mNone\u001b[0m\u001b[1;33m\u001b[0m\u001b[1;33m\u001b[0m\u001b[0m\n\u001b[0m\u001b[0;32m   1052\u001b[0m             \u001b[1;32mexcept\u001b[0m \u001b[0mException\u001b[0m\u001b[1;33m:\u001b[0m\u001b[1;33m\u001b[0m\u001b[1;33m\u001b[0m\u001b[0m\n\u001b[0;32m   1053\u001b[0m                 \u001b[0mself\u001b[0m\u001b[1;33m.\u001b[0m\u001b[0mlog\u001b[0m\u001b[1;33m.\u001b[0m\u001b[0mwarning\u001b[0m\u001b[1;33m(\u001b[0m\u001b[1;34m\"Invalid Message:\"\u001b[0m\u001b[1;33m,\u001b[0m \u001b[0mexc_info\u001b[0m\u001b[1;33m=\u001b[0m\u001b[1;32mTrue\u001b[0m\u001b[1;33m)\u001b[0m\u001b[1;33m\u001b[0m\u001b[1;33m\u001b[0m\u001b[0m\n",
      "\u001b[1;31mKeyboardInterrupt\u001b[0m: Interrupted by user"
     ]
    }
   ],
   "source": [
    "# Ahora empezaremos con la función para que nuestro usuario comience a seleccionar las cartas.\n",
    "## Lo siguiente también nos quedó a medio camino, ya que intentamos escribir sólo 1 vez el código, no las 14 que lo escribimos, pero tampoco nos funcionó, así que también lo mejoraremos.\n",
    "coordenada1 = input(f'{jugadores[0]}, escoge una carta: ')\n",
    "indice = int(coordenada1)\n",
    "carta = cartas_piramide[indice]\n",
    "volteadas[carta] = carta\n",
    "\n",
    "def print_carta(*cartas):\n",
    "    cartas = [volteadas.get(carta, i) for carta in cartas]\n",
    "    juntos = '  '.join(cartas)\n",
    "    print('{:^18s}'.format(juntos))\n",
    "\n",
    "cartas_piramide_copia = cartas_piramide.copy()\n",
    "    \n",
    "for i in range(1,6):\n",
    "    renglon = []\n",
    "    for _ in range(i):\n",
    "        renglon.append(cartas_piramide_copia.pop(0))\n",
    "    print_carta(*renglon)\n",
    "    \n",
    "if carta[:-1] not in mano_jugador1_valores:\n",
    "    print(f'\\n{jugadores[0]}, te salvaste!')\n",
    "if carta[:-1] in mano_jugador1_valores:\n",
    "    print(f'\\n{jugadores[0]}, bebe 5 segundos!')\n",
    "    \n",
    "print(f'\\nLa carta escogida es: {carta}')\n",
    "print(f'\\nTu mano es: {mano_jugador1}')\n",
    "print(f'\\nAhora es el turno de {jugadores[1]}.')\n",
    "print(f'\\n----------------------------------------------')"
   ]
  },
  {
   "cell_type": "code",
   "execution_count": 41,
   "id": "c8e3ea37-adca-4b51-b7c1-d9c4b4123ee8",
   "metadata": {
    "tags": []
   },
   "outputs": [
    {
     "name": "stdin",
     "output_type": "stream",
     "text": [
      "Cordova, escoge una carta:  01\n"
     ]
    },
    {
     "name": "stdout",
     "output_type": "stream",
     "text": [
      "        3♠        \n",
      "     10♦  02      \n",
      "    03  04  05    \n",
      "  06  07  08  09  \n",
      "10  11  12  13  14\n",
      "\n",
      "Cordova, te salvaste!\n",
      "\n",
      "La carta escogida es: 10♦\n",
      "\n",
      "Tu mano es: ['Q♠', 'J♣', 'A♠', '9♦', 'A♣', '3♦']\n",
      "\n",
      "Ahora es el turno de Javiera.\n",
      "\n",
      "----------------------------------------------\n"
     ]
    }
   ],
   "source": [
    "coordenada2 = input(f'{jugadores[1]}, escoge una carta: ')\n",
    "indice = int(coordenada2)\n",
    "carta = cartas_piramide[indice]\n",
    "volteadas[carta] = carta\n",
    "\n",
    "def print_carta(*cartas):\n",
    "    cartas = [volteadas.get(carta, i) for carta in cartas]\n",
    "    juntos = '  '.join(cartas)\n",
    "    print('{:^18s}'.format(juntos))\n",
    "\n",
    "cartas_piramide_copia = cartas_piramide.copy()\n",
    "    \n",
    "for i in range(1,6):\n",
    "    renglon = []\n",
    "    for _ in range(i):\n",
    "        renglon.append(cartas_piramide_copia.pop(0))\n",
    "    print_carta(*renglon)\n",
    "    \n",
    "if carta[:-1] not in mano_jugador2_valores:\n",
    "    print(f'\\n{jugadores[1]}, te salvaste!')\n",
    "if carta[:-1] in mano_jugador2_valores:\n",
    "    print(f'\\n{jugadores[1]}, bebe 5 segundos!')\n",
    "\n",
    "print(f'\\nLa carta escogida es: {carta}')\n",
    "print(f'\\nTu mano es: {mano_jugador2}')\n",
    "print(f'\\nAhora es el turno de {jugadores[0]}.')\n",
    "print(f'\\n----------------------------------------------')"
   ]
  },
  {
   "cell_type": "code",
   "execution_count": 42,
   "id": "83c8e519-8820-41b7-94c9-f02614dfbf54",
   "metadata": {
    "tags": []
   },
   "outputs": [
    {
     "name": "stdin",
     "output_type": "stream",
     "text": [
      "Javiera, escoge una carta:  02\n"
     ]
    },
    {
     "name": "stdout",
     "output_type": "stream",
     "text": [
      "        3♠        \n",
      "     10♦  6♥      \n",
      "    03  04  05    \n",
      "  06  07  08  09  \n",
      "10  11  12  13  14\n",
      "\n",
      "Javiera, bebe 5 segundos!\n",
      "\n",
      "La carta escogida es: 6♥\n",
      "\n",
      "Tu mano es: ['4♦', 'A♥', '6♣', '4♠', 'K♠', '3♥']\n",
      "\n",
      "Ahora es el turno de Cordova.\n",
      "\n",
      "----------------------------------------------\n"
     ]
    }
   ],
   "source": [
    "coordenada3 = input(f'{jugadores[0]}, escoge una carta: ')\n",
    "indice = int(coordenada3)\n",
    "carta = cartas_piramide[indice]\n",
    "volteadas[carta] = carta\n",
    "\n",
    "def print_carta(*cartas):\n",
    "    cartas = [volteadas.get(carta, i) for carta in cartas]\n",
    "    juntos = '  '.join(cartas)\n",
    "    print('{:^18s}'.format(juntos))\n",
    "\n",
    "cartas_piramide_copia = cartas_piramide.copy()\n",
    "    \n",
    "for i in range(1,6):\n",
    "    renglon = []\n",
    "    for _ in range(i):\n",
    "        renglon.append(cartas_piramide_copia.pop(0))\n",
    "    print_carta(*renglon)\n",
    "    \n",
    "if carta[:-1] not in mano_jugador1_valores:\n",
    "    print(f'\\n{jugadores[0]}, te salvaste!')\n",
    "if carta[:-1] in mano_jugador1_valores:\n",
    "    print(f'\\n{jugadores[0]}, bebe 5 segundos!')\n",
    "    \n",
    "print(f'\\nLa carta escogida es: {carta}')\n",
    "print(f'\\nTu mano es: {mano_jugador1}')\n",
    "print(f'\\nAhora es el turno de {jugadores[1]}.')\n",
    "print(f'\\n----------------------------------------------')"
   ]
  },
  {
   "cell_type": "code",
   "execution_count": 43,
   "id": "49616eac-4c6e-4ce6-ac7c-d9ef88290e4a",
   "metadata": {
    "tags": []
   },
   "outputs": [
    {
     "name": "stdin",
     "output_type": "stream",
     "text": [
      "Cordova, escoge una carta:  03\n"
     ]
    },
    {
     "name": "stdout",
     "output_type": "stream",
     "text": [
      "        3♠        \n",
      "     10♦  6♥      \n",
      "    7♦  04  05    \n",
      "  06  07  08  09  \n",
      "10  11  12  13  14\n",
      "\n",
      "Cordova, te salvaste!\n",
      "\n",
      "La carta escogida es: 7♦\n",
      "\n",
      "Tu mano es: ['Q♠', 'J♣', 'A♠', '9♦', 'A♣', '3♦']\n",
      "\n",
      "Ahora es el turno de Javiera.\n",
      "\n",
      "----------------------------------------------\n"
     ]
    }
   ],
   "source": [
    "coordenada4 = input(f'{jugadores[1]}, escoge una carta: ')\n",
    "indice = int(coordenada4)\n",
    "carta = cartas_piramide[indice]\n",
    "volteadas[carta] = carta\n",
    "\n",
    "def print_carta(*cartas):\n",
    "    cartas = [volteadas.get(carta, i) for carta in cartas]\n",
    "    juntos = '  '.join(cartas)\n",
    "    print('{:^18s}'.format(juntos))\n",
    "\n",
    "cartas_piramide_copia = cartas_piramide.copy()\n",
    "    \n",
    "for i in range(1,6):\n",
    "    renglon = []\n",
    "    for _ in range(i):\n",
    "        renglon.append(cartas_piramide_copia.pop(0))\n",
    "    print_carta(*renglon)\n",
    "    \n",
    "if carta[:-1] not in mano_jugador2_valores:\n",
    "    print(f'\\n{jugadores[1]}, te salvaste!')\n",
    "if carta[:-1] in mano_jugador2_valores:\n",
    "    print(f'\\n{jugadores[1]}, bebe 5 segundos!')\n",
    "\n",
    "print(f'\\nLa carta escogida es: {carta}')\n",
    "print(f'\\nTu mano es: {mano_jugador2}')\n",
    "print(f'\\nAhora es el turno de {jugadores[0]}.')\n",
    "print(f'\\n----------------------------------------------')"
   ]
  },
  {
   "cell_type": "code",
   "execution_count": 44,
   "id": "77268dfa-e9d0-43a0-99cf-4f8abf74eff4",
   "metadata": {},
   "outputs": [
    {
     "name": "stdin",
     "output_type": "stream",
     "text": [
      "Javiera, escoge una carta:  04\n"
     ]
    },
    {
     "name": "stdout",
     "output_type": "stream",
     "text": [
      "        3♠        \n",
      "     10♦  6♥      \n",
      "    7♦  2♦  05    \n",
      "  06  07  08  09  \n",
      "10  11  12  13  14\n",
      "\n",
      "Javiera, te salvaste!\n",
      "\n",
      "La carta escogida es: 2♦\n",
      "\n",
      "Tu mano es: ['4♦', 'A♥', '6♣', '4♠', 'K♠', '3♥']\n",
      "\n",
      "Ahora es el turno de Cordova.\n",
      "\n",
      "----------------------------------------------\n"
     ]
    }
   ],
   "source": [
    "coordenada5 = input(f'{jugadores[0]}, escoge una carta: ')\n",
    "indice = int(coordenada5)\n",
    "carta = cartas_piramide[indice]\n",
    "volteadas[carta] = carta\n",
    "\n",
    "def print_carta(*cartas):\n",
    "    cartas = [volteadas.get(carta, i) for carta in cartas]\n",
    "    juntos = '  '.join(cartas)\n",
    "    print('{:^18s}'.format(juntos))\n",
    "\n",
    "cartas_piramide_copia = cartas_piramide.copy()\n",
    "    \n",
    "for i in range(1,6):\n",
    "    renglon = []\n",
    "    for _ in range(i):\n",
    "        renglon.append(cartas_piramide_copia.pop(0))\n",
    "    print_carta(*renglon)\n",
    "    \n",
    "if carta[:-1] not in mano_jugador1_valores:\n",
    "    print(f'\\n{jugadores[0]}, te salvaste!')\n",
    "if carta[:-1] in mano_jugador1_valores:\n",
    "    print(f'\\n{jugadores[0]}, bebe 5 segundos!')\n",
    "    \n",
    "print(f'\\nLa carta escogida es: {carta}')\n",
    "print(f'\\nTu mano es: {mano_jugador1}')\n",
    "print(f'\\nAhora es el turno de {jugadores[1]}.')\n",
    "print(f'\\n----------------------------------------------')"
   ]
  },
  {
   "cell_type": "code",
   "execution_count": 45,
   "id": "d33fd31c-c26a-40c9-81cc-c0aece0b3e4f",
   "metadata": {},
   "outputs": [
    {
     "name": "stdin",
     "output_type": "stream",
     "text": [
      "Cordova, escoge una carta:  05\n"
     ]
    },
    {
     "name": "stdout",
     "output_type": "stream",
     "text": [
      "        3♠        \n",
      "     10♦  6♥      \n",
      "    7♦  2♦  2♣    \n",
      "  06  07  08  09  \n",
      "10  11  12  13  14\n",
      "\n",
      "Cordova, te salvaste!\n",
      "\n",
      "La carta escogida es: 2♣\n",
      "\n",
      "Tu mano es: ['Q♠', 'J♣', 'A♠', '9♦', 'A♣', '3♦']\n",
      "\n",
      "Ahora es el turno de Javiera.\n",
      "\n",
      "----------------------------------------------\n"
     ]
    }
   ],
   "source": [
    "coordenada6 = input(f'{jugadores[1]}, escoge una carta: ')\n",
    "indice = int(coordenada6)\n",
    "carta = cartas_piramide[indice]\n",
    "volteadas[carta] = carta\n",
    "\n",
    "def print_carta(*cartas):\n",
    "    cartas = [volteadas.get(carta, i) for carta in cartas]\n",
    "    juntos = '  '.join(cartas)\n",
    "    print('{:^18s}'.format(juntos))\n",
    "\n",
    "cartas_piramide_copia = cartas_piramide.copy()\n",
    "    \n",
    "for i in range(1,6):\n",
    "    renglon = []\n",
    "    for _ in range(i):\n",
    "        renglon.append(cartas_piramide_copia.pop(0))\n",
    "    print_carta(*renglon)\n",
    "    \n",
    "if carta[:-1] not in mano_jugador2_valores:\n",
    "    print(f'\\n{jugadores[1]}, te salvaste!')\n",
    "if carta[:-1] in mano_jugador2_valores:\n",
    "    print(f'\\n{jugadores[1]}, bebe 5 segundos!')\n",
    "\n",
    "print(f'\\nLa carta escogida es: {carta}')\n",
    "print(f'\\nTu mano es: {mano_jugador2}')\n",
    "print(f'\\nAhora es el turno de {jugadores[0]}.')\n",
    "print(f'\\n----------------------------------------------')"
   ]
  },
  {
   "cell_type": "code",
   "execution_count": 46,
   "id": "dbdbd398-c57e-4737-9eb0-149d54a980ea",
   "metadata": {},
   "outputs": [
    {
     "name": "stdin",
     "output_type": "stream",
     "text": [
      "Javiera, escoge una carta:  06\n"
     ]
    },
    {
     "name": "stdout",
     "output_type": "stream",
     "text": [
      "        3♠        \n",
      "     10♦  6♥      \n",
      "    7♦  2♦  2♣    \n",
      "  7♠  07  08  09  \n",
      "10  11  12  13  14\n",
      "\n",
      "Javiera, te salvaste!\n",
      "\n",
      "La carta escogida es: 7♠\n",
      "\n",
      "Tu mano es: ['4♦', 'A♥', '6♣', '4♠', 'K♠', '3♥']\n",
      "\n",
      "Ahora es el turno de Cordova.\n",
      "\n",
      "----------------------------------------------\n"
     ]
    }
   ],
   "source": [
    "coordenada7 = input(f'{jugadores[0]}, escoge una carta: ')\n",
    "indice = int(coordenada7)\n",
    "carta = cartas_piramide[indice]\n",
    "volteadas[carta] = carta\n",
    "\n",
    "def print_carta(*cartas):\n",
    "    cartas = [volteadas.get(carta, i) for carta in cartas]\n",
    "    juntos = '  '.join(cartas)\n",
    "    print('{:^18s}'.format(juntos))\n",
    "\n",
    "cartas_piramide_copia = cartas_piramide.copy()\n",
    "    \n",
    "for i in range(1,6):\n",
    "    renglon = []\n",
    "    for _ in range(i):\n",
    "        renglon.append(cartas_piramide_copia.pop(0))\n",
    "    print_carta(*renglon)\n",
    "    \n",
    "if carta[:-1] not in mano_jugador1_valores:\n",
    "    print(f'\\n{jugadores[0]}, te salvaste!')\n",
    "if carta[:-1] in mano_jugador1_valores:\n",
    "    print(f'\\n{jugadores[0]}, bebe 5 segundos!')\n",
    "    \n",
    "print(f'\\nLa carta escogida es: {carta}')\n",
    "print(f'\\nTu mano es: {mano_jugador1}')\n",
    "print(f'\\nAhora es el turno de {jugadores[1]}.')\n",
    "print(f'\\n----------------------------------------------')"
   ]
  },
  {
   "cell_type": "code",
   "execution_count": 47,
   "id": "a93e6493-eca2-42e4-8c93-b71af04a310c",
   "metadata": {},
   "outputs": [
    {
     "ename": "KeyboardInterrupt",
     "evalue": "Interrupted by user",
     "output_type": "error",
     "traceback": [
      "\u001b[1;31m---------------------------------------------------------------------------\u001b[0m",
      "\u001b[1;31mKeyboardInterrupt\u001b[0m                         Traceback (most recent call last)",
      "\u001b[1;32m~\\AppData\\Local\\Temp/ipykernel_48580/3849172620.py\u001b[0m in \u001b[0;36m<module>\u001b[1;34m\u001b[0m\n\u001b[1;32m----> 1\u001b[1;33m \u001b[0mcoordenada8\u001b[0m \u001b[1;33m=\u001b[0m \u001b[0minput\u001b[0m\u001b[1;33m(\u001b[0m\u001b[1;34mf'{jugadores[1]}, escoge una carta: '\u001b[0m\u001b[1;33m)\u001b[0m\u001b[1;33m\u001b[0m\u001b[1;33m\u001b[0m\u001b[0m\n\u001b[0m\u001b[0;32m      2\u001b[0m \u001b[0mindice\u001b[0m \u001b[1;33m=\u001b[0m \u001b[0mint\u001b[0m\u001b[1;33m(\u001b[0m\u001b[0mcoordenada8\u001b[0m\u001b[1;33m)\u001b[0m\u001b[1;33m\u001b[0m\u001b[1;33m\u001b[0m\u001b[0m\n\u001b[0;32m      3\u001b[0m \u001b[0mcarta\u001b[0m \u001b[1;33m=\u001b[0m \u001b[0mcartas_piramide\u001b[0m\u001b[1;33m[\u001b[0m\u001b[0mindice\u001b[0m\u001b[1;33m]\u001b[0m\u001b[1;33m\u001b[0m\u001b[1;33m\u001b[0m\u001b[0m\n\u001b[0;32m      4\u001b[0m \u001b[0mvolteadas\u001b[0m\u001b[1;33m[\u001b[0m\u001b[0mcarta\u001b[0m\u001b[1;33m]\u001b[0m \u001b[1;33m=\u001b[0m \u001b[0mcarta\u001b[0m\u001b[1;33m\u001b[0m\u001b[1;33m\u001b[0m\u001b[0m\n\u001b[0;32m      5\u001b[0m \u001b[1;33m\u001b[0m\u001b[0m\n",
      "\u001b[1;32m~\\anaconda3\\lib\\site-packages\\ipykernel\\kernelbase.py\u001b[0m in \u001b[0;36mraw_input\u001b[1;34m(self, prompt)\u001b[0m\n\u001b[0;32m   1004\u001b[0m                 \u001b[1;34m\"raw_input was called, but this frontend does not support input requests.\"\u001b[0m\u001b[1;33m\u001b[0m\u001b[1;33m\u001b[0m\u001b[0m\n\u001b[0;32m   1005\u001b[0m             )\n\u001b[1;32m-> 1006\u001b[1;33m         return self._input_request(\n\u001b[0m\u001b[0;32m   1007\u001b[0m             \u001b[0mstr\u001b[0m\u001b[1;33m(\u001b[0m\u001b[0mprompt\u001b[0m\u001b[1;33m)\u001b[0m\u001b[1;33m,\u001b[0m\u001b[1;33m\u001b[0m\u001b[1;33m\u001b[0m\u001b[0m\n\u001b[0;32m   1008\u001b[0m             \u001b[0mself\u001b[0m\u001b[1;33m.\u001b[0m\u001b[0m_parent_ident\u001b[0m\u001b[1;33m[\u001b[0m\u001b[1;34m\"shell\"\u001b[0m\u001b[1;33m]\u001b[0m\u001b[1;33m,\u001b[0m\u001b[1;33m\u001b[0m\u001b[1;33m\u001b[0m\u001b[0m\n",
      "\u001b[1;32m~\\anaconda3\\lib\\site-packages\\ipykernel\\kernelbase.py\u001b[0m in \u001b[0;36m_input_request\u001b[1;34m(self, prompt, ident, parent, password)\u001b[0m\n\u001b[0;32m   1049\u001b[0m             \u001b[1;32mexcept\u001b[0m \u001b[0mKeyboardInterrupt\u001b[0m\u001b[1;33m:\u001b[0m\u001b[1;33m\u001b[0m\u001b[1;33m\u001b[0m\u001b[0m\n\u001b[0;32m   1050\u001b[0m                 \u001b[1;31m# re-raise KeyboardInterrupt, to truncate traceback\u001b[0m\u001b[1;33m\u001b[0m\u001b[1;33m\u001b[0m\u001b[0m\n\u001b[1;32m-> 1051\u001b[1;33m                 \u001b[1;32mraise\u001b[0m \u001b[0mKeyboardInterrupt\u001b[0m\u001b[1;33m(\u001b[0m\u001b[1;34m\"Interrupted by user\"\u001b[0m\u001b[1;33m)\u001b[0m \u001b[1;32mfrom\u001b[0m \u001b[1;32mNone\u001b[0m\u001b[1;33m\u001b[0m\u001b[1;33m\u001b[0m\u001b[0m\n\u001b[0m\u001b[0;32m   1052\u001b[0m             \u001b[1;32mexcept\u001b[0m \u001b[0mException\u001b[0m\u001b[1;33m:\u001b[0m\u001b[1;33m\u001b[0m\u001b[1;33m\u001b[0m\u001b[0m\n\u001b[0;32m   1053\u001b[0m                 \u001b[0mself\u001b[0m\u001b[1;33m.\u001b[0m\u001b[0mlog\u001b[0m\u001b[1;33m.\u001b[0m\u001b[0mwarning\u001b[0m\u001b[1;33m(\u001b[0m\u001b[1;34m\"Invalid Message:\"\u001b[0m\u001b[1;33m,\u001b[0m \u001b[0mexc_info\u001b[0m\u001b[1;33m=\u001b[0m\u001b[1;32mTrue\u001b[0m\u001b[1;33m)\u001b[0m\u001b[1;33m\u001b[0m\u001b[1;33m\u001b[0m\u001b[0m\n",
      "\u001b[1;31mKeyboardInterrupt\u001b[0m: Interrupted by user"
     ]
    }
   ],
   "source": [
    "coordenada8 = input(f'{jugadores[1]}, escoge una carta: ')\n",
    "indice = int(coordenada8)\n",
    "carta = cartas_piramide[indice]\n",
    "volteadas[carta] = carta\n",
    "\n",
    "def print_carta(*cartas):\n",
    "    cartas = [volteadas.get(carta, i) for carta in cartas]\n",
    "    juntos = '  '.join(cartas)\n",
    "    print('{:^18s}'.format(juntos))\n",
    "\n",
    "cartas_piramide_copia = cartas_piramide.copy()\n",
    "    \n",
    "for i in range(1,6):\n",
    "    renglon = []\n",
    "    for _ in range(i):\n",
    "        renglon.append(cartas_piramide_copia.pop(0))\n",
    "    print_carta(*renglon)\n",
    "    \n",
    "if carta[:-1] not in mano_jugador2_valores:\n",
    "    print(f'\\n{jugadores[1]}, te salvaste!')\n",
    "if carta[:-1] in mano_jugador2_valores:\n",
    "    print(f'\\n{jugadores[1]}, bebe 5 segundos!')\n",
    "\n",
    "print(f'\\nLa carta escogida es: {carta}')\n",
    "print(f'\\nTu mano es: {mano_jugador2}')\n",
    "print(f'\\nAhora es el turno de {jugadores[0]}.')\n",
    "print(f'\\n----------------------------------------------')"
   ]
  },
  {
   "cell_type": "code",
   "execution_count": null,
   "id": "364598e6-c256-4c2c-9b49-0b2cae7dd129",
   "metadata": {},
   "outputs": [],
   "source": [
    "coordenada9 = input(f'{jugadores[0]}, escoge una carta: ')\n",
    "indice = int(coordenada9)\n",
    "carta = cartas_piramide[indice]\n",
    "volteadas[carta] = carta\n",
    "\n",
    "def print_carta(*cartas):\n",
    "    cartas = [volteadas.get(carta, i) for carta in cartas]\n",
    "    juntos = '  '.join(cartas)\n",
    "    print('{:^18s}'.format(juntos))\n",
    "\n",
    "cartas_piramide_copia = cartas_piramide.copy()\n",
    "    \n",
    "for i in range(1,6):\n",
    "    renglon = []\n",
    "    for _ in range(i):\n",
    "        renglon.append(cartas_piramide_copia.pop(0))\n",
    "    print_carta(*renglon)\n",
    "    \n",
    "if carta[:-1] not in mano_jugador1_valores:\n",
    "    print(f'\\n{jugadores[0]}, te salvaste!')\n",
    "if carta[:-1] in mano_jugador1_valores:\n",
    "    print(f'\\n{jugadores[0]}, bebe 5 segundos!')\n",
    "    \n",
    "print(f'\\nLa carta escogida es: {carta}')\n",
    "print(f'\\nTu mano es: {mano_jugador1}')\n",
    "print(f'\\nAhora es el turno de {jugadores[1]}.')\n",
    "print(f'\\n----------------------------------------------')"
   ]
  },
  {
   "cell_type": "code",
   "execution_count": null,
   "id": "1d1741d2-8a4e-49e2-b40d-0ee255ecc0d3",
   "metadata": {
    "tags": []
   },
   "outputs": [],
   "source": [
    "coordenada10 = input(f'{jugadores[1]}, escoge una carta: ')\n",
    "indice = int(coordenada10)\n",
    "carta = cartas_piramide[indice]\n",
    "volteadas[carta] = carta\n",
    "\n",
    "def print_carta(*cartas):\n",
    "    cartas = [volteadas.get(carta, i) for carta in cartas]\n",
    "    juntos = '  '.join(cartas)\n",
    "    print('{:^18s}'.format(juntos))\n",
    "\n",
    "cartas_piramide_copia = cartas_piramide.copy()\n",
    "    \n",
    "for i in range(1,6):\n",
    "    renglon = []\n",
    "    for _ in range(i):\n",
    "        renglon.append(cartas_piramide_copia.pop(0))\n",
    "    print_carta(*renglon)\n",
    "    \n",
    "if carta[:-1] not in mano_jugador2_valores:\n",
    "    print(f'\\n{jugadores[1]}, te salvaste!')\n",
    "if carta[:-1] in mano_jugador2_valores:\n",
    "    print(f'\\n{jugadores[1]}, bebe 5 segundos!')\n",
    "\n",
    "print(f'\\nLa carta escogida es: {carta}')\n",
    "print(f'\\nTu mano es: {mano_jugador2}')\n",
    "print(f'\\nAhora es el turno de {jugadores[0]}.')\n",
    "print(f'\\n----------------------------------------------')"
   ]
  },
  {
   "cell_type": "code",
   "execution_count": null,
   "id": "21755345-cc6b-4336-bb5f-94c0625eab35",
   "metadata": {},
   "outputs": [],
   "source": [
    "coordenada11 = input(f'{jugadores[0]}, escoge una carta: ')\n",
    "indice = int(coordenada11)\n",
    "carta = cartas_piramide[indice]\n",
    "volteadas[carta] = carta\n",
    "\n",
    "def print_carta(*cartas):\n",
    "    cartas = [volteadas.get(carta, i) for carta in cartas]\n",
    "    juntos = '  '.join(cartas)\n",
    "    print('{:^18s}'.format(juntos))\n",
    "\n",
    "cartas_piramide_copia = cartas_piramide.copy()\n",
    "    \n",
    "for i in range(1,6):\n",
    "    renglon = []\n",
    "    for _ in range(i):\n",
    "        renglon.append(cartas_piramide_copia.pop(0))\n",
    "    print_carta(*renglon)\n",
    "    \n",
    "if carta[:-1] not in mano_jugador1_valores:\n",
    "    print(f'\\n{jugadores[0]}, te salvaste!')\n",
    "if carta[:-1] in mano_jugador1_valores:\n",
    "    print(f'\\n{jugadores[0]}, bebe 5 segundos!')\n",
    "    \n",
    "print(f'\\nLa carta escogida es: {carta}')\n",
    "print(f'\\nTu mano es: {mano_jugador1}')\n",
    "print(f'\\nAhora es el turno de {jugadores[1]}.')\n",
    "print(f'\\n----------------------------------------------')"
   ]
  },
  {
   "cell_type": "code",
   "execution_count": null,
   "id": "a417c372-2121-4323-b03c-c6801995c3a5",
   "metadata": {},
   "outputs": [],
   "source": [
    "coordenada12 = input(f'{jugadores[1]}, escoge una carta: ')\n",
    "indice = int(coordenada12)\n",
    "carta = cartas_piramide[indice]\n",
    "volteadas[carta] = carta\n",
    "\n",
    "def print_carta(*cartas):\n",
    "    cartas = [volteadas.get(carta, i) for carta in cartas]\n",
    "    juntos = '  '.join(cartas)\n",
    "    print('{:^18s}'.format(juntos))\n",
    "\n",
    "cartas_piramide_copia = cartas_piramide.copy()\n",
    "    \n",
    "for i in range(1,6):\n",
    "    renglon = []\n",
    "    for _ in range(i):\n",
    "        renglon.append(cartas_piramide_copia.pop(0))\n",
    "    print_carta(*renglon)\n",
    "    \n",
    "if carta[:-1] not in mano_jugador2_valores:\n",
    "    print(f'\\n{jugadores[1]}, te salvaste!')\n",
    "if carta[:-1] in mano_jugador2_valores:\n",
    "    print(f'\\n{jugadores[1]}, bebe 5 segundos!')\n",
    "\n",
    "print(f'\\nLa carta escogida es: {carta}')\n",
    "print(f'\\nTu mano es: {mano_jugador2}')\n",
    "print(f'\\nAhora es el turno de {jugadores[0]}.')\n",
    "print(f'\\n----------------------------------------------')"
   ]
  },
  {
   "cell_type": "code",
   "execution_count": null,
   "id": "e86e4002-0284-4c64-9d1f-8a4f2451f315",
   "metadata": {
    "tags": []
   },
   "outputs": [],
   "source": [
    "coordenada13 = input(f'{jugadores[0]}, escoge una carta: ')\n",
    "indice = int(coordenada13)\n",
    "carta = cartas_piramide[indice]\n",
    "volteadas[carta] = carta\n",
    "\n",
    "def print_carta(*cartas):\n",
    "    cartas = [volteadas.get(carta, i) for carta in cartas]\n",
    "    juntos = '  '.join(cartas)\n",
    "    print('{:^18s}'.format(juntos))\n",
    "\n",
    "cartas_piramide_copia = cartas_piramide.copy()\n",
    "    \n",
    "for i in range(1,6):\n",
    "    renglon = []\n",
    "    for _ in range(i):\n",
    "        renglon.append(cartas_piramide_copia.pop(0))\n",
    "    print_carta(*renglon)\n",
    "    \n",
    "if carta[:-1] not in mano_jugador1_valores:\n",
    "    print(f'\\n{jugadores[0]}, te salvaste!')\n",
    "if carta[:-1] in mano_jugador1_valores:\n",
    "    print(f'\\n{jugadores[0]}, bebe 5 segundos!')\n",
    "    \n",
    "print(f'\\nLa carta escogida es: {carta}')\n",
    "print(f'\\nTu mano es: {mano_jugador1}')\n",
    "print(f'\\nAhora es el turno de {jugadores[1]}.')\n",
    "print(f'\\n----------------------------------------------')"
   ]
  },
  {
   "cell_type": "code",
   "execution_count": null,
   "id": "b558cb37-c0a5-4eb9-b932-90c5bd69fbde",
   "metadata": {},
   "outputs": [],
   "source": [
    "coordenada14 = input(f'{jugadores[1]}, escoge una carta: ')\n",
    "indice = int(coordenada14)\n",
    "carta = cartas_piramide[indice]\n",
    "volteadas[carta] = carta\n",
    "\n",
    "def print_carta(*cartas):\n",
    "    cartas = [volteadas.get(carta, i) for carta in cartas]\n",
    "    juntos = '  '.join(cartas)\n",
    "    print('{:^18s}'.format(juntos))\n",
    "\n",
    "cartas_piramide_copia = cartas_piramide.copy()\n",
    "    \n",
    "for i in range(1,6):\n",
    "    renglon = []\n",
    "    for _ in range(i):\n",
    "        renglon.append(cartas_piramide_copia.pop(0))\n",
    "    print_carta(*renglon)\n",
    "    \n",
    "if carta[:-1] not in mano_jugador2_valores:\n",
    "    print(f'\\n{jugadores[1]}, te salvaste!')\n",
    "if carta[:-1] in mano_jugador2_valores:\n",
    "    print(f'\\n{jugadores[1]}, bebe 5 segundos!')\n",
    "\n",
    "print(f'\\nLa carta escogida es: {carta}')\n",
    "print(f'\\nTu mano es: {mano_jugador2}')\n",
    "print(f'\\nAhora es el turno de {jugadores[0]}.')\n",
    "print(f'\\n----------------------------------------------')"
   ]
  },
  {
   "cell_type": "code",
   "execution_count": null,
   "id": "d67432db-ecba-4ca9-b630-3539eaac1098",
   "metadata": {
    "tags": []
   },
   "outputs": [],
   "source": [
    "coordenada15 = input(f'{jugadores[0]}, escoge una carta: ')\n",
    "indice = int(coordenada15)\n",
    "carta = cartas_piramide[indice]\n",
    "volteadas[carta] = carta\n",
    "\n",
    "def print_carta(*cartas):\n",
    "    cartas = [volteadas.get(carta, i) for carta in cartas]\n",
    "    juntos = '  '.join(cartas)\n",
    "    print('{:^18s}'.format(juntos))\n",
    "\n",
    "cartas_piramide_copia = cartas_piramide.copy()\n",
    "    \n",
    "for i in range(1,6):\n",
    "    renglon = []\n",
    "    for _ in range(i):\n",
    "        renglon.append(cartas_piramide_copia.pop(0))\n",
    "    print_carta(*renglon)\n",
    "    \n",
    "if carta[:-1] not in mano_jugador1_valores:\n",
    "    print(f'\\n{jugadores[0]}, te salvaste!')\n",
    "if carta[:-1] in mano_jugador1_valores:\n",
    "    print(f'\\n{jugadores[0]}, bebe 5 segundos!')\n",
    "    \n",
    "print(f'\\nLa carta escogida es: {carta}')\n",
    "print(f'\\nTu mano es: {mano_jugador1}')\n",
    "print(f'\\n----------------------------------------------')"
   ]
  },
  {
   "cell_type": "code",
   "execution_count": null,
   "id": "48487acb-f972-489e-8cc7-894db7f111f4",
   "metadata": {
    "tags": []
   },
   "outputs": [],
   "source": [
    "# Mensaje cuando se voltean todas las cartas.\n",
    "print('¡FIN DEL JUEGO!\\n¡FELICIDADES!\\n¡PROBABLEMENTE YA ESTÁN BORRACHOS!')"
   ]
  }
 ],
 "metadata": {
  "kernelspec": {
   "display_name": "Python 3 (ipykernel)",
   "language": "python",
   "name": "python3"
  },
  "language_info": {
   "codemirror_mode": {
    "name": "ipython",
    "version": 3
   },
   "file_extension": ".py",
   "mimetype": "text/x-python",
   "name": "python",
   "nbconvert_exporter": "python",
   "pygments_lexer": "ipython3",
   "version": "3.9.7"
  }
 },
 "nbformat": 4,
 "nbformat_minor": 5
}
