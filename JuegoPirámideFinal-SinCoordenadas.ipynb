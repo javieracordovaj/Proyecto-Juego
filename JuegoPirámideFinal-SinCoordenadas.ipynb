{
 "cells": [
  {
   "cell_type": "code",
   "execution_count": 93,
   "id": "edd279c7-2dce-4e1a-94a2-348074b5ad61",
   "metadata": {
    "jupyter": {
     "source_hidden": true
    },
    "tags": []
   },
   "outputs": [
    {
     "name": "stdin",
     "output_type": "stream",
     "text": [
      "Nombre jugador 1:  Octavio\n",
      "Nombre jugador 2:  Javiera\n"
     ]
    }
   ],
   "source": [
    "# En 1er lugar, pedimos los nombres de los jugadores:\n",
    "jugadores = []\n",
    "while len(jugadores) < 2:\n",
    "    jugadores.append(input(\"Nombre jugador 1: \"))\n",
    "    jugadores.append(input(\"Nombre jugador 2: \"))"
   ]
  },
  {
   "cell_type": "code",
   "execution_count": 94,
   "id": "ff913e19-8076-4962-bfac-e8f5a9cb2f3c",
   "metadata": {
    "tags": []
   },
   "outputs": [],
   "source": [
    "# Posteriormente, creamos nuestro mazo de cartas:\n",
    "pinta = ['♣','♦','♠','♥']\n",
    "valores = ['A','2','3','4','5','6','7','8','9','10','J','Q','K']\n",
    "\n",
    "mazo_cartas = []\n",
    "\n",
    "for elemento in pinta:\n",
    "    for valor in valores:\n",
    "        mazo_cartas.append(str(valor)+elemento)"
   ]
  },
  {
   "cell_type": "code",
   "execution_count": 95,
   "id": "187f50cb-1e10-4575-b5b6-578c2820496a",
   "metadata": {
    "tags": []
   },
   "outputs": [],
   "source": [
    "import random\n",
    "\n",
    "cartas_piramide = random.sample(mazo_cartas, 15) # Escogemos 15 cartas al azar para armar la pirámide.\n",
    "cartas_after_piramide = [] # Creamos una lista con las cartas que quedan después de armar la pirámide.\n",
    "\n",
    "for carta in cartas_piramide:\n",
    "    if carta in mazo_cartas:\n",
    "        cartas_after_piramide = set(mazo_cartas) - set(cartas_piramide)"
   ]
  },
  {
   "cell_type": "code",
   "execution_count": 96,
   "id": "5e2851cf-63d7-465a-ab00-bfcb70bb5a1a",
   "metadata": {
    "tags": []
   },
   "outputs": [],
   "source": [
    "# A los valores que verá el usuario para ir escogiendo qué cartas irá volteando, le asignaremos a c/u una carta de nuestras cartas_piramide.\n",
    "volteadas = {card:str(cartas_piramide.index(card)).zfill(2) for card in cartas_piramide}"
   ]
  },
  {
   "cell_type": "code",
   "execution_count": 109,
   "id": "276ab238-8f22-4681-8249-93f55285c791",
   "metadata": {
    "tags": []
   },
   "outputs": [
    {
     "name": "stdout",
     "output_type": "stream",
     "text": [
      "        00        \n",
      "      01  02      \n",
      "    03  04  05    \n",
      "  06  07  08  09  \n",
      "10  11  12  3♦  K♣\n"
     ]
    }
   ],
   "source": [
    "# Armaremos la pirámide que verá el usuario, con las cartas ocultas, donde se podrá acceder a ellas mediante índices:\n",
    "## Gracias por tanto y perdón por tan poco Zahid!\n",
    "def print_carta(*cartas):\n",
    "    cartas = [volteadas.get(carta, i) for carta in cartas]\n",
    "    juntos = '  '.join(cartas)\n",
    "    print('{:^18s}'.format(juntos))\n",
    "\n",
    "cartas_piramide_copia = cartas_piramide.copy()\n",
    "    \n",
    "for i in range(1,6):\n",
    "    renglon = []\n",
    "    for _ in range(i):\n",
    "        renglon.append(cartas_piramide_copia.pop(0))\n",
    "    print_carta(*renglon) "
   ]
  },
  {
   "cell_type": "code",
   "execution_count": 98,
   "id": "3bdcf9fe-d973-49f1-b6ff-00b2d7f47d55",
   "metadata": {
    "tags": []
   },
   "outputs": [
    {
     "name": "stdout",
     "output_type": "stream",
     "text": [
      "La mano de Octavio es ['9♣', '2♥', '3♣', '2♦', 'J♥', '2♣'].\n",
      "La mano de Javiera es ['A♠', '4♠', '8♦', '5♦', '9♠', '8♣']\n"
     ]
    }
   ],
   "source": [
    "# Las cartas seleccionadas las repartiremos al azar a nuestros jugadores:\n",
    "import warnings\n",
    "warnings.filterwarnings(\"ignore\")\n",
    "\n",
    "mano_jugador1 = random.sample(cartas_after_piramide, 6)\n",
    "for carta in mano_jugador1:\n",
    "    cartas_after_piramide.remove(carta)\n",
    "    mano_jugador2 = random.sample(cartas_after_piramide, 6)\n",
    "print(f'La mano de {jugadores[0]} es {mano_jugador1}.\\nLa mano de {jugadores[1]} es {mano_jugador2}')"
   ]
  },
  {
   "cell_type": "code",
   "execution_count": 99,
   "id": "4d446a0c-a3d3-4674-ab38-3e0921d83481",
   "metadata": {
    "tags": []
   },
   "outputs": [],
   "source": [
    "# Extraeré solamente los valores de cada carta de la mano de los jugadores (sin la pinta), para así más adelante hacer la igualdad con las cartas de la pirámide.\n",
    "## Esto es una futura mejora, ya que nos faltó tiempo para mejorar el juego y no tener que hacer este paso.\n",
    "mano_jugador1_valores = []\n",
    "mano_jugador2_valores = []\n",
    "\n",
    "for x in mano_jugador1:\n",
    "    mano_jugador1_valores.append(x[:-1])\n",
    "for y in mano_jugador2:\n",
    "    mano_jugador2_valores.append(y[:-1])"
   ]
  },
  {
   "cell_type": "code",
   "execution_count": 108,
   "id": "f0eaa6c7-8875-48b6-9679-d28b9855c193",
   "metadata": {
    "tags": []
   },
   "outputs": [
    {
     "name": "stdin",
     "output_type": "stream",
     "text": [
      "Octavio, escoge una carta:  14\n"
     ]
    },
    {
     "name": "stdout",
     "output_type": "stream",
     "text": [
      "        00        \n",
      "      01  02      \n",
      "    03  04  05    \n",
      "  06  07  08  09  \n",
      "10  11  12  13  K♣\n",
      "\n",
      "Octavio, te salvaste!\n",
      "\n",
      "La carta escogida es: K♣\n",
      "\n",
      "Tu mano es: ['9♣', '2♥', '3♣', '2♦', 'J♥', '2♣']\n",
      "\n",
      "Javiera, te salvaste!\n",
      "\n",
      "La mano de Javiera es :['A♠', '4♠', '8♦', '5♦', '9♠', '8♣']\n",
      "\n",
      "----------------------------------------------\n",
      "\n",
      "\n",
      "Ahora es el turno de Javiera.\n"
     ]
    },
    {
     "name": "stdin",
     "output_type": "stream",
     "text": [
      "Javiera, escoge una carta:  13\n"
     ]
    },
    {
     "name": "stdout",
     "output_type": "stream",
     "text": [
      "        00        \n",
      "      01  02      \n",
      "    03  04  05    \n",
      "  06  07  08  09  \n",
      "10  11  12  3♦  K♣\n",
      "\n",
      "Javiera, te salvaste!\n",
      "\n",
      "La carta escogida es: 3♦\n",
      "\n",
      "Tu mano es: ['A♠', '4♠', '8♦', '5♦', '9♠', '8♣']\n",
      "\n",
      "Octavio, bebe 5 segundos!\n",
      "\n",
      "La mano de Octavio es :['9♣', '2♥', '3♣', '2♦', 'J♥', '2♣']\n",
      "\n",
      "----------------------------------------------\n",
      "\n",
      "\n",
      "Ahora es el turno de Octavio.\n"
     ]
    },
    {
     "ename": "KeyboardInterrupt",
     "evalue": "Interrupted by user",
     "output_type": "error",
     "traceback": [
      "\u001b[1;31m---------------------------------------------------------------------------\u001b[0m",
      "\u001b[1;31mKeyboardInterrupt\u001b[0m                         Traceback (most recent call last)",
      "\u001b[1;32m~\\AppData\\Local\\Temp/ipykernel_23240/3718442086.py\u001b[0m in \u001b[0;36m<module>\u001b[1;34m\u001b[0m\n\u001b[0;32m     62\u001b[0m \u001b[1;33m\u001b[0m\u001b[0m\n\u001b[0;32m     63\u001b[0m     \u001b[1;32mreturn\u001b[0m \u001b[0mjuego\u001b[0m\u001b[1;33m(\u001b[0m\u001b[0mcoordenada1\u001b[0m\u001b[1;33m)\u001b[0m\u001b[1;33m\u001b[0m\u001b[1;33m\u001b[0m\u001b[0m\n\u001b[1;32m---> 64\u001b[1;33m \u001b[0mjuego\u001b[0m\u001b[1;33m(\u001b[0m\u001b[1;36m0\u001b[0m\u001b[1;33m)\u001b[0m\u001b[1;33m\u001b[0m\u001b[1;33m\u001b[0m\u001b[0m\n\u001b[0m",
      "\u001b[1;32m~\\AppData\\Local\\Temp/ipykernel_23240/3718442086.py\u001b[0m in \u001b[0;36mjuego\u001b[1;34m(coordenada1)\u001b[0m\n\u001b[0;32m     61\u001b[0m \u001b[1;33m\u001b[0m\u001b[0m\n\u001b[0;32m     62\u001b[0m \u001b[1;33m\u001b[0m\u001b[0m\n\u001b[1;32m---> 63\u001b[1;33m     \u001b[1;32mreturn\u001b[0m \u001b[0mjuego\u001b[0m\u001b[1;33m(\u001b[0m\u001b[0mcoordenada1\u001b[0m\u001b[1;33m)\u001b[0m\u001b[1;33m\u001b[0m\u001b[1;33m\u001b[0m\u001b[0m\n\u001b[0m\u001b[0;32m     64\u001b[0m \u001b[0mjuego\u001b[0m\u001b[1;33m(\u001b[0m\u001b[1;36m0\u001b[0m\u001b[1;33m)\u001b[0m\u001b[1;33m\u001b[0m\u001b[1;33m\u001b[0m\u001b[0m\n",
      "\u001b[1;32m~\\AppData\\Local\\Temp/ipykernel_23240/3718442086.py\u001b[0m in \u001b[0;36mjuego\u001b[1;34m(coordenada1)\u001b[0m\n\u001b[0;32m      3\u001b[0m \u001b[1;32mdef\u001b[0m \u001b[0mjuego\u001b[0m \u001b[1;33m(\u001b[0m\u001b[0mcoordenada1\u001b[0m\u001b[1;33m)\u001b[0m\u001b[1;33m:\u001b[0m\u001b[1;33m\u001b[0m\u001b[1;33m\u001b[0m\u001b[0m\n\u001b[0;32m      4\u001b[0m \u001b[1;33m\u001b[0m\u001b[0m\n\u001b[1;32m----> 5\u001b[1;33m     \u001b[0mcoordenada1\u001b[0m \u001b[1;33m=\u001b[0m \u001b[0minput\u001b[0m\u001b[1;33m(\u001b[0m\u001b[1;34mf'{jugadores[0]}, escoge una carta: '\u001b[0m\u001b[1;33m)\u001b[0m\u001b[1;33m\u001b[0m\u001b[1;33m\u001b[0m\u001b[0m\n\u001b[0m\u001b[0;32m      6\u001b[0m \u001b[1;33m\u001b[0m\u001b[0m\n\u001b[0;32m      7\u001b[0m     \u001b[0mindice\u001b[0m \u001b[1;33m=\u001b[0m \u001b[0mint\u001b[0m\u001b[1;33m(\u001b[0m\u001b[0mcoordenada1\u001b[0m\u001b[1;33m)\u001b[0m\u001b[1;33m\u001b[0m\u001b[1;33m\u001b[0m\u001b[0m\n",
      "\u001b[1;32m~\\anaconda3\\lib\\site-packages\\ipykernel\\kernelbase.py\u001b[0m in \u001b[0;36mraw_input\u001b[1;34m(self, prompt)\u001b[0m\n\u001b[0;32m   1004\u001b[0m                 \u001b[1;34m\"raw_input was called, but this frontend does not support input requests.\"\u001b[0m\u001b[1;33m\u001b[0m\u001b[1;33m\u001b[0m\u001b[0m\n\u001b[0;32m   1005\u001b[0m             )\n\u001b[1;32m-> 1006\u001b[1;33m         return self._input_request(\n\u001b[0m\u001b[0;32m   1007\u001b[0m             \u001b[0mstr\u001b[0m\u001b[1;33m(\u001b[0m\u001b[0mprompt\u001b[0m\u001b[1;33m)\u001b[0m\u001b[1;33m,\u001b[0m\u001b[1;33m\u001b[0m\u001b[1;33m\u001b[0m\u001b[0m\n\u001b[0;32m   1008\u001b[0m             \u001b[0mself\u001b[0m\u001b[1;33m.\u001b[0m\u001b[0m_parent_ident\u001b[0m\u001b[1;33m[\u001b[0m\u001b[1;34m\"shell\"\u001b[0m\u001b[1;33m]\u001b[0m\u001b[1;33m,\u001b[0m\u001b[1;33m\u001b[0m\u001b[1;33m\u001b[0m\u001b[0m\n",
      "\u001b[1;32m~\\anaconda3\\lib\\site-packages\\ipykernel\\kernelbase.py\u001b[0m in \u001b[0;36m_input_request\u001b[1;34m(self, prompt, ident, parent, password)\u001b[0m\n\u001b[0;32m   1049\u001b[0m             \u001b[1;32mexcept\u001b[0m \u001b[0mKeyboardInterrupt\u001b[0m\u001b[1;33m:\u001b[0m\u001b[1;33m\u001b[0m\u001b[1;33m\u001b[0m\u001b[0m\n\u001b[0;32m   1050\u001b[0m                 \u001b[1;31m# re-raise KeyboardInterrupt, to truncate traceback\u001b[0m\u001b[1;33m\u001b[0m\u001b[1;33m\u001b[0m\u001b[0m\n\u001b[1;32m-> 1051\u001b[1;33m                 \u001b[1;32mraise\u001b[0m \u001b[0mKeyboardInterrupt\u001b[0m\u001b[1;33m(\u001b[0m\u001b[1;34m\"Interrupted by user\"\u001b[0m\u001b[1;33m)\u001b[0m \u001b[1;32mfrom\u001b[0m \u001b[1;32mNone\u001b[0m\u001b[1;33m\u001b[0m\u001b[1;33m\u001b[0m\u001b[0m\n\u001b[0m\u001b[0;32m   1052\u001b[0m             \u001b[1;32mexcept\u001b[0m \u001b[0mException\u001b[0m\u001b[1;33m:\u001b[0m\u001b[1;33m\u001b[0m\u001b[1;33m\u001b[0m\u001b[0m\n\u001b[0;32m   1053\u001b[0m                 \u001b[0mself\u001b[0m\u001b[1;33m.\u001b[0m\u001b[0mlog\u001b[0m\u001b[1;33m.\u001b[0m\u001b[0mwarning\u001b[0m\u001b[1;33m(\u001b[0m\u001b[1;34m\"Invalid Message:\"\u001b[0m\u001b[1;33m,\u001b[0m \u001b[0mexc_info\u001b[0m\u001b[1;33m=\u001b[0m\u001b[1;32mTrue\u001b[0m\u001b[1;33m)\u001b[0m\u001b[1;33m\u001b[0m\u001b[1;33m\u001b[0m\u001b[0m\n",
      "\u001b[1;31mKeyboardInterrupt\u001b[0m: Interrupted by user"
     ]
    }
   ],
   "source": [
    "# Ahora empezaremos con la función para que nuestro usuario comience a seleccionar las cartas.\n",
    "## Lo siguiente también nos quedó a medio camino, ya que intentamos escribir sólo 1 vez el código, no las 14 que lo escribimos, pero tampoco nos funcionó, así que también lo mejoraremos.\n",
    "def juego (coordenada1):\n",
    "    \n",
    "    coordenada1 = input(f'{jugadores[0]}, escoge una carta: ')\n",
    "    \n",
    "    indice = int(coordenada1)\n",
    "    carta = cartas_piramide[indice]\n",
    "    volteadas[carta] = carta\n",
    "    \n",
    "    cartas_piramide_copia = cartas_piramide.copy()\n",
    "    \n",
    "    for i in range(1,6):\n",
    "        renglon = []\n",
    "        for _ in range(i):\n",
    "            renglon.append(cartas_piramide_copia.pop(0))\n",
    "        print_carta(*renglon)\n",
    "        \n",
    "    if carta[:-1] not in mano_jugador1_valores:\n",
    "        print(f'\\n{jugadores[0]}, te salvaste!')\n",
    "    if carta[:-1] in mano_jugador1_valores:\n",
    "        print(f'\\n{jugadores[0]}, bebe 5 segundos!')    \n",
    "    print(f'\\nLa carta escogida es: {carta}')\n",
    "    print(f'\\nTu mano es: {mano_jugador1}')\n",
    "    \n",
    "    if carta[:-1] not in mano_jugador2_valores:\n",
    "        print(f'\\n{jugadores[1]}, te salvaste!')\n",
    "    if carta[:-1] in mano_jugador2_valores:\n",
    "        print(f'\\n{jugadores[1]}, bebe 5 segundos!')\n",
    "    print(f'\\nLa mano de {jugadores[1]} es :{mano_jugador2}')\n",
    "    print(f'\\n----------------------------------------------\\n')\n",
    "    print(f'\\nAhora es el turno de {jugadores[1]}.')\n",
    "    \n",
    "    coordenada2 = input(f'{jugadores[1]}, escoge una carta: ')\n",
    "    indice = int(coordenada2)\n",
    "    carta = cartas_piramide[indice]\n",
    "    volteadas[carta] = carta\n",
    "\n",
    "    cartas_piramide_copia = cartas_piramide.copy()\n",
    "    \n",
    "    for i in range(1,6):\n",
    "        renglon = []\n",
    "        for _ in range(i):\n",
    "            renglon.append(cartas_piramide_copia.pop(0))\n",
    "        print_carta(*renglon)\n",
    "          \n",
    "    if carta[:-1] not in mano_jugador2_valores:\n",
    "        print(f'\\n{jugadores[1]}, te salvaste!')\n",
    "    if carta[:-1] in mano_jugador2_valores:\n",
    "        print(f'\\n{jugadores[1]}, bebe 5 segundos!')    \n",
    "    print(f'\\nLa carta escogida es: {carta}')\n",
    "    print(f'\\nTu mano es: {mano_jugador2}')\n",
    "    \n",
    "    if carta[:-1] not in mano_jugador1_valores:\n",
    "        print(f'\\n{jugadores[0]}, te salvaste!')\n",
    "    if carta[:-1] in mano_jugador1_valores:\n",
    "        print(f'\\n{jugadores[0]}, bebe 5 segundos!')\n",
    "    print(f'\\nLa mano de {jugadores[0]} es :{mano_jugador1}')\n",
    "    print(f'\\n----------------------------------------------\\n')\n",
    "    print(f'\\nAhora es el turno de {jugadores[0]}.')\n",
    "    \n",
    "    return juego(coordenada1)\n",
    "juego(0)"
   ]
  },
  {
   "cell_type": "code",
   "execution_count": null,
   "id": "3af02b43-3f1b-4501-b974-56752a525241",
   "metadata": {},
   "outputs": [],
   "source": []
  }
 ],
 "metadata": {
  "kernelspec": {
   "display_name": "Python 3 (ipykernel)",
   "language": "python",
   "name": "python3"
  },
  "language_info": {
   "codemirror_mode": {
    "name": "ipython",
    "version": 3
   },
   "file_extension": ".py",
   "mimetype": "text/x-python",
   "name": "python",
   "nbconvert_exporter": "python",
   "pygments_lexer": "ipython3",
   "version": "3.9.7"
  }
 },
 "nbformat": 4,
 "nbformat_minor": 5
}
