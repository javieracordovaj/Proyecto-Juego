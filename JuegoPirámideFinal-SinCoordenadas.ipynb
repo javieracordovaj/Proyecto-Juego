{
 "cells": [
  {
   "cell_type": "code",
   "execution_count": 46,
   "id": "edd279c7-2dce-4e1a-94a2-348074b5ad61",
   "metadata": {
    "jupyter": {
     "source_hidden": true
    },
    "tags": []
   },
   "outputs": [
    {
     "name": "stdin",
     "output_type": "stream",
     "text": [
      "Nombre jugador 1:  Octavio\n",
      "Nombre jugador 2:  Javiera\n"
     ]
    }
   ],
   "source": [
    "# En 1er lugar, pedimos los nombres de los jugadores:\n",
    "jugadores = []\n",
    "while len(jugadores) < 2:\n",
    "    jugadores.append(input(\"Nombre jugador 1: \"))\n",
    "    jugadores.append(input(\"Nombre jugador 2: \"))"
   ]
  },
  {
   "cell_type": "code",
   "execution_count": 47,
   "id": "ff913e19-8076-4962-bfac-e8f5a9cb2f3c",
   "metadata": {
    "jupyter": {
     "source_hidden": true
    },
    "tags": []
   },
   "outputs": [],
   "source": [
    "# Posteriormente, creamos nuestro mazo de cartas:\n",
    "pinta = ['♣','♦','♠','♥']\n",
    "valores = ['A','2','3','4','5','6','7','8','9','10','J','Q','K']\n",
    "\n",
    "mazo_cartas = []\n",
    "\n",
    "for elemento in pinta:\n",
    "    for valor in valores:\n",
    "        mazo_cartas.append(str(valor)+elemento)"
   ]
  },
  {
   "cell_type": "code",
   "execution_count": 48,
   "id": "187f50cb-1e10-4575-b5b6-578c2820496a",
   "metadata": {
    "jupyter": {
     "source_hidden": true
    },
    "tags": []
   },
   "outputs": [],
   "source": [
    "import random\n",
    "\n",
    "cartas_piramide = random.sample(mazo_cartas, 15) # Escogemos 15 cartas al azar para armar la pirámide.\n",
    "cartas_after_piramide = [] # Creamos una lista con las cartas que quedan después de armar la pirámide.\n",
    "\n",
    "for carta in cartas_piramide:\n",
    "    if carta in mazo_cartas:\n",
    "        cartas_after_piramide = set(mazo_cartas) - set(cartas_piramide)"
   ]
  },
  {
   "cell_type": "code",
   "execution_count": 49,
   "id": "5e2851cf-63d7-465a-ab00-bfcb70bb5a1a",
   "metadata": {
    "jupyter": {
     "source_hidden": true
    },
    "tags": []
   },
   "outputs": [],
   "source": [
    "# A los valores que verá el usuario para ir escogiendo qué cartas irá volteando, le asignaremos a c/u una carta de nuestras cartas_piramide.\n",
    "volteadas = {card:str(cartas_piramide.index(card)).zfill(2) for card in cartas_piramide}"
   ]
  },
  {
   "cell_type": "code",
   "execution_count": 50,
   "id": "276ab238-8f22-4681-8249-93f55285c791",
   "metadata": {
    "jupyter": {
     "source_hidden": true
    },
    "tags": []
   },
   "outputs": [
    {
     "name": "stdout",
     "output_type": "stream",
     "text": [
      "        00        \n",
      "      01  02      \n",
      "    03  04  05    \n",
      "  06  07  08  09  \n",
      "10  11  12  13  14\n"
     ]
    }
   ],
   "source": [
    "# Armaremos la pirámide que verá el usuario, con las cartas ocultas, donde se podrá acceder a ellas mediante índices:\n",
    "## Gracias por tanto y perdón por tan poco Zahid!\n",
    "def print_carta(*cartas):\n",
    "    cartas = [volteadas.get(carta, i) for carta in cartas]\n",
    "    juntos = '  '.join(cartas)\n",
    "    print('{:^18s}'.format(juntos))\n",
    "\n",
    "cartas_piramide_copia = cartas_piramide.copy()\n",
    "    \n",
    "for i in range(1,6):\n",
    "    renglon = []\n",
    "    for _ in range(i):\n",
    "        renglon.append(cartas_piramide_copia.pop(0))\n",
    "    print_carta(*renglon) # Acá estaría faltando ordenar los números para que el 14 vaya en la punta de la pirámide.\n",
    "                          ## No alcanzamos, así que problemas del futuro"
   ]
  },
  {
   "cell_type": "code",
   "execution_count": 51,
   "id": "3bdcf9fe-d973-49f1-b6ff-00b2d7f47d55",
   "metadata": {
    "jupyter": {
     "source_hidden": true
    },
    "tags": []
   },
   "outputs": [
    {
     "name": "stdout",
     "output_type": "stream",
     "text": [
      "La mano de Octavio es ['Q♥', 'K♥', 'K♠', '7♦', '6♠', 'A♦'].\n",
      "La mano de Javiera es ['3♥', '3♦', '9♣', 'J♠', 'A♣', '2♣']\n"
     ]
    }
   ],
   "source": [
    "# Las cartas seleccionadas las repartiremos al azar a nuestros jugadores:\n",
    "import warnings\n",
    "warnings.filterwarnings(\"ignore\")\n",
    "\n",
    "mano_jugador1 = random.sample(cartas_after_piramide, 6)\n",
    "for carta in mano_jugador1:\n",
    "    cartas_after_piramide.remove(carta)\n",
    "    mano_jugador2 = random.sample(cartas_after_piramide, 6)\n",
    "print(f'La mano de {jugadores[0]} es {mano_jugador1}.\\nLa mano de {jugadores[1]} es {mano_jugador2}')"
   ]
  },
  {
   "cell_type": "code",
   "execution_count": 52,
   "id": "4d446a0c-a3d3-4674-ab38-3e0921d83481",
   "metadata": {
    "jupyter": {
     "source_hidden": true
    },
    "tags": []
   },
   "outputs": [],
   "source": [
    "# Extraeré solamente los valores de cada carta de la mano de los jugadores (sin la pinta), para así más adelante hacer la igualdad con las cartas de la pirámide.\n",
    "## Esto es una futura mejora, ya que nos faltó tiempo para mejorar el juego y no tener que hacer este paso.\n",
    "mano_jugador1_valores = []\n",
    "mano_jugador2_valores = []\n",
    "\n",
    "for x in mano_jugador1:\n",
    "    mano_jugador1_valores.append(x[:-1])\n",
    "for y in mano_jugador2:\n",
    "    mano_jugador2_valores.append(y[:-1])"
   ]
  },
  {
   "cell_type": "code",
   "execution_count": null,
   "id": "f0eaa6c7-8875-48b6-9679-d28b9855c193",
   "metadata": {
    "jupyter": {
     "source_hidden": true
    },
    "tags": []
   },
   "outputs": [
    {
     "name": "stdin",
     "output_type": "stream",
     "text": [
      "Octavio, escoge una carta:  02\n"
     ]
    },
    {
     "name": "stdout",
     "output_type": "stream",
     "text": [
      "        00        \n",
      "     01  10♥      \n",
      "    03  04  05    \n",
      "  06  07  08  09  \n",
      "10  11  12  13  14\n",
      "\n",
      "Octavio, te salvaste!\n",
      "\n",
      "La carta escogida es: 10♥\n",
      "\n",
      "Tu mano es: ['Q♥', 'K♥', 'K♠', '7♦', '6♠', 'A♦']\n",
      "\n",
      "Javiera, te salvaste!\n",
      "\n",
      "La mano de Javiera es :['3♥', '3♦', '9♣', 'J♠', 'A♣', '2♣']\n",
      "\n",
      "Ahora es el turno de Javiera.\n",
      "\n",
      "----------------------------------------------\n",
      "\n"
     ]
    },
    {
     "name": "stdin",
     "output_type": "stream",
     "text": [
      "Javiera, escoge una carta:  04\n"
     ]
    },
    {
     "name": "stdout",
     "output_type": "stream",
     "text": [
      "        00        \n",
      "     01  10♥      \n",
      "    03  7♥  05    \n",
      "  06  07  08  09  \n",
      "10  11  12  13  14\n",
      "\n",
      "Javiera, te salvaste!\n",
      "\n",
      "La carta escogida es: 7♥\n",
      "\n",
      "Tu mano es: ['3♥', '3♦', '9♣', 'J♠', 'A♣', '2♣']\n",
      "\n",
      "Octavio, bebe 5 segundos!\n",
      "\n",
      "La mano de Octavio es :['Q♥', 'K♥', 'K♠', '7♦', '6♠', 'A♦']\n",
      "\n",
      "Ahora es el turno de Octavio.\n",
      "\n",
      "----------------------------------------------\n",
      "\n"
     ]
    },
    {
     "name": "stdin",
     "output_type": "stream",
     "text": [
      "Octavio, escoge una carta:  05\n"
     ]
    },
    {
     "name": "stdout",
     "output_type": "stream",
     "text": [
      "        00        \n",
      "     01  10♥      \n",
      "    03  7♥  J♣    \n",
      "  06  07  08  09  \n",
      "10  11  12  13  14\n",
      "\n",
      "Octavio, te salvaste!\n",
      "\n",
      "La carta escogida es: J♣\n",
      "\n",
      "Tu mano es: ['Q♥', 'K♥', 'K♠', '7♦', '6♠', 'A♦']\n",
      "\n",
      "Javiera, bebe 5 segundos!\n",
      "\n",
      "La mano de Javiera es :['3♥', '3♦', '9♣', 'J♠', 'A♣', '2♣']\n",
      "\n",
      "Ahora es el turno de Javiera.\n",
      "\n",
      "----------------------------------------------\n",
      "\n"
     ]
    },
    {
     "name": "stdin",
     "output_type": "stream",
     "text": [
      "Javiera, escoge una carta:  00\n"
     ]
    },
    {
     "name": "stdout",
     "output_type": "stream",
     "text": [
      "        4♥        \n",
      "     01  10♥      \n",
      "    03  7♥  J♣    \n",
      "  06  07  08  09  \n",
      "10  11  12  13  14\n",
      "\n",
      "Javiera, te salvaste!\n",
      "\n",
      "La carta escogida es: 4♥\n",
      "\n",
      "Tu mano es: ['3♥', '3♦', '9♣', 'J♠', 'A♣', '2♣']\n",
      "\n",
      "Octavio, te salvaste!\n",
      "\n",
      "La mano de Octavio es :['Q♥', 'K♥', 'K♠', '7♦', '6♠', 'A♦']\n",
      "\n",
      "Ahora es el turno de Octavio.\n",
      "\n",
      "----------------------------------------------\n",
      "\n"
     ]
    },
    {
     "name": "stdin",
     "output_type": "stream",
     "text": [
      "Octavio, escoge una carta:  01\n"
     ]
    },
    {
     "name": "stdout",
     "output_type": "stream",
     "text": [
      "        4♥        \n",
      "     6♣  10♥      \n",
      "    03  7♥  J♣    \n",
      "  06  07  08  09  \n",
      "10  11  12  13  14\n",
      "\n",
      "Octavio, bebe 5 segundos!\n",
      "\n",
      "La carta escogida es: 6♣\n",
      "\n",
      "Tu mano es: ['Q♥', 'K♥', 'K♠', '7♦', '6♠', 'A♦']\n",
      "\n",
      "Javiera, te salvaste!\n",
      "\n",
      "La mano de Javiera es :['3♥', '3♦', '9♣', 'J♠', 'A♣', '2♣']\n",
      "\n",
      "Ahora es el turno de Javiera.\n",
      "\n",
      "----------------------------------------------\n",
      "\n"
     ]
    },
    {
     "name": "stdin",
     "output_type": "stream",
     "text": [
      "Javiera, escoge una carta:  03\n"
     ]
    },
    {
     "name": "stdout",
     "output_type": "stream",
     "text": [
      "        4♥        \n",
      "     6♣  10♥      \n",
      "    8♣  7♥  J♣    \n",
      "  06  07  08  09  \n",
      "10  11  12  13  14\n",
      "\n",
      "Javiera, te salvaste!\n",
      "\n",
      "La carta escogida es: 8♣\n",
      "\n",
      "Tu mano es: ['3♥', '3♦', '9♣', 'J♠', 'A♣', '2♣']\n",
      "\n",
      "Octavio, te salvaste!\n",
      "\n",
      "La mano de Octavio es :['Q♥', 'K♥', 'K♠', '7♦', '6♠', 'A♦']\n",
      "\n",
      "Ahora es el turno de Octavio.\n",
      "\n",
      "----------------------------------------------\n",
      "\n"
     ]
    },
    {
     "name": "stdin",
     "output_type": "stream",
     "text": [
      "Octavio, escoge una carta:  06\n"
     ]
    },
    {
     "name": "stdout",
     "output_type": "stream",
     "text": [
      "        4♥        \n",
      "     6♣  10♥      \n",
      "    8♣  7♥  J♣    \n",
      "  6♥  07  08  09  \n",
      "10  11  12  13  14\n",
      "\n",
      "Octavio, bebe 5 segundos!\n",
      "\n",
      "La carta escogida es: 6♥\n",
      "\n",
      "Tu mano es: ['Q♥', 'K♥', 'K♠', '7♦', '6♠', 'A♦']\n",
      "\n",
      "Javiera, te salvaste!\n",
      "\n",
      "La mano de Javiera es :['3♥', '3♦', '9♣', 'J♠', 'A♣', '2♣']\n",
      "\n",
      "Ahora es el turno de Javiera.\n",
      "\n",
      "----------------------------------------------\n",
      "\n"
     ]
    },
    {
     "name": "stdin",
     "output_type": "stream",
     "text": [
      "Javiera, escoge una carta:  07\n"
     ]
    },
    {
     "name": "stdout",
     "output_type": "stream",
     "text": [
      "        4♥        \n",
      "     6♣  10♥      \n",
      "    8♣  7♥  J♣    \n",
      "  6♥  2♠  08  09  \n",
      "10  11  12  13  14\n",
      "\n",
      "Javiera, bebe 5 segundos!\n",
      "\n",
      "La carta escogida es: 2♠\n",
      "\n",
      "Tu mano es: ['3♥', '3♦', '9♣', 'J♠', 'A♣', '2♣']\n",
      "\n",
      "Octavio, te salvaste!\n",
      "\n",
      "La mano de Octavio es :['Q♥', 'K♥', 'K♠', '7♦', '6♠', 'A♦']\n",
      "\n",
      "Ahora es el turno de Octavio.\n",
      "\n",
      "----------------------------------------------\n",
      "\n"
     ]
    },
    {
     "name": "stdin",
     "output_type": "stream",
     "text": [
      "Octavio, escoge una carta:  08\n"
     ]
    },
    {
     "name": "stdout",
     "output_type": "stream",
     "text": [
      "        4♥        \n",
      "     6♣  10♥      \n",
      "    8♣  7♥  J♣    \n",
      "  6♥  2♠  7♣  09  \n",
      "10  11  12  13  14\n",
      "\n",
      "Octavio, bebe 5 segundos!\n",
      "\n",
      "La carta escogida es: 7♣\n",
      "\n",
      "Tu mano es: ['Q♥', 'K♥', 'K♠', '7♦', '6♠', 'A♦']\n",
      "\n",
      "Javiera, te salvaste!\n",
      "\n",
      "La mano de Javiera es :['3♥', '3♦', '9♣', 'J♠', 'A♣', '2♣']\n",
      "\n",
      "Ahora es el turno de Javiera.\n",
      "\n",
      "----------------------------------------------\n",
      "\n"
     ]
    },
    {
     "name": "stdin",
     "output_type": "stream",
     "text": [
      "Javiera, escoge una carta:  09\n"
     ]
    },
    {
     "name": "stdout",
     "output_type": "stream",
     "text": [
      "        4♥        \n",
      "     6♣  10♥      \n",
      "    8♣  7♥  J♣    \n",
      "  6♥  2♠  7♣  J♦  \n",
      "10  11  12  13  14\n",
      "\n",
      "Javiera, bebe 5 segundos!\n",
      "\n",
      "La carta escogida es: J♦\n",
      "\n",
      "Tu mano es: ['3♥', '3♦', '9♣', 'J♠', 'A♣', '2♣']\n",
      "\n",
      "Octavio, te salvaste!\n",
      "\n",
      "La mano de Octavio es :['Q♥', 'K♥', 'K♠', '7♦', '6♠', 'A♦']\n",
      "\n",
      "Ahora es el turno de Octavio.\n",
      "\n",
      "----------------------------------------------\n",
      "\n"
     ]
    },
    {
     "name": "stdin",
     "output_type": "stream",
     "text": [
      "Octavio, escoge una carta:  10\n"
     ]
    },
    {
     "name": "stdout",
     "output_type": "stream",
     "text": [
      "        4♥        \n",
      "     6♣  10♥      \n",
      "    8♣  7♥  J♣    \n",
      "  6♥  2♠  7♣  J♦  \n",
      "Q♦  11  12  13  14\n",
      "\n",
      "Octavio, bebe 5 segundos!\n",
      "\n",
      "La carta escogida es: Q♦\n",
      "\n",
      "Tu mano es: ['Q♥', 'K♥', 'K♠', '7♦', '6♠', 'A♦']\n",
      "\n",
      "Javiera, te salvaste!\n",
      "\n",
      "La mano de Javiera es :['3♥', '3♦', '9♣', 'J♠', 'A♣', '2♣']\n",
      "\n",
      "Ahora es el turno de Javiera.\n",
      "\n",
      "----------------------------------------------\n",
      "\n"
     ]
    },
    {
     "name": "stdin",
     "output_type": "stream",
     "text": [
      "Javiera, escoge una carta:  11\n"
     ]
    },
    {
     "name": "stdout",
     "output_type": "stream",
     "text": [
      "        4♥        \n",
      "     6♣  10♥      \n",
      "    8♣  7♥  J♣    \n",
      "  6♥  2♠  7♣  J♦  \n",
      "Q♦  3♠  12  13  14\n",
      "\n",
      "Javiera, bebe 5 segundos!\n",
      "\n",
      "La carta escogida es: 3♠\n",
      "\n",
      "Tu mano es: ['3♥', '3♦', '9♣', 'J♠', 'A♣', '2♣']\n",
      "\n",
      "Octavio, te salvaste!\n",
      "\n",
      "La mano de Octavio es :['Q♥', 'K♥', 'K♠', '7♦', '6♠', 'A♦']\n",
      "\n",
      "Ahora es el turno de Octavio.\n",
      "\n",
      "----------------------------------------------\n",
      "\n"
     ]
    },
    {
     "name": "stdin",
     "output_type": "stream",
     "text": [
      "Octavio, escoge una carta:  12\n"
     ]
    },
    {
     "name": "stdout",
     "output_type": "stream",
     "text": [
      "        4♥        \n",
      "     6♣  10♥      \n",
      "    8♣  7♥  J♣    \n",
      "  6♥  2♠  7♣  J♦  \n",
      "Q♦  3♠  A♠  13  14\n",
      "\n",
      "Octavio, bebe 5 segundos!\n",
      "\n",
      "La carta escogida es: A♠\n",
      "\n",
      "Tu mano es: ['Q♥', 'K♥', 'K♠', '7♦', '6♠', 'A♦']\n",
      "\n",
      "Javiera, bebe 5 segundos!\n",
      "\n",
      "La mano de Javiera es :['3♥', '3♦', '9♣', 'J♠', 'A♣', '2♣']\n",
      "\n",
      "Ahora es el turno de Javiera.\n",
      "\n",
      "----------------------------------------------\n",
      "\n"
     ]
    },
    {
     "name": "stdin",
     "output_type": "stream",
     "text": [
      "Javiera, escoge una carta:  13\n"
     ]
    },
    {
     "name": "stdout",
     "output_type": "stream",
     "text": [
      "        4♥        \n",
      "     6♣  10♥      \n",
      "    8♣  7♥  J♣    \n",
      "  6♥  2♠  7♣  J♦  \n",
      "Q♦  3♠  A♠  4♦  14\n",
      "\n",
      "Javiera, te salvaste!\n",
      "\n",
      "La carta escogida es: 4♦\n",
      "\n",
      "Tu mano es: ['3♥', '3♦', '9♣', 'J♠', 'A♣', '2♣']\n",
      "\n",
      "Octavio, te salvaste!\n",
      "\n",
      "La mano de Octavio es :['Q♥', 'K♥', 'K♠', '7♦', '6♠', 'A♦']\n",
      "\n",
      "Ahora es el turno de Octavio.\n",
      "\n",
      "----------------------------------------------\n",
      "\n"
     ]
    },
    {
     "name": "stdin",
     "output_type": "stream",
     "text": [
      "Octavio, escoge una carta:  14\n"
     ]
    },
    {
     "name": "stdout",
     "output_type": "stream",
     "text": [
      "        4♥        \n",
      "     6♣  10♥      \n",
      "    8♣  7♥  J♣    \n",
      "  6♥  2♠  7♣  J♦  \n",
      "Q♦  3♠  A♠  4♦  9♦\n",
      "\n",
      "Octavio, te salvaste!\n",
      "\n",
      "La carta escogida es: 9♦\n",
      "\n",
      "Tu mano es: ['Q♥', 'K♥', 'K♠', '7♦', '6♠', 'A♦']\n",
      "\n",
      "Javiera, bebe 5 segundos!\n",
      "\n",
      "La mano de Javiera es :['3♥', '3♦', '9♣', 'J♠', 'A♣', '2♣']\n",
      "\n",
      "Ahora es el turno de Javiera.\n",
      "\n",
      "----------------------------------------------\n",
      "\n"
     ]
    },
    {
     "name": "stdin",
     "output_type": "stream",
     "text": [
      "Javiera, escoge una carta:  04\n"
     ]
    },
    {
     "name": "stdout",
     "output_type": "stream",
     "text": [
      "        4♥        \n",
      "     6♣  10♥      \n",
      "    8♣  7♥  J♣    \n",
      "  6♥  2♠  7♣  J♦  \n",
      "Q♦  3♠  A♠  4♦  9♦\n",
      "\n",
      "Javiera, te salvaste!\n",
      "\n",
      "La carta escogida es: 7♥\n",
      "\n",
      "Tu mano es: ['3♥', '3♦', '9♣', 'J♠', 'A♣', '2♣']\n",
      "\n",
      "Octavio, bebe 5 segundos!\n",
      "\n",
      "La mano de Octavio es :['Q♥', 'K♥', 'K♠', '7♦', '6♠', 'A♦']\n",
      "\n",
      "Ahora es el turno de Octavio.\n",
      "\n",
      "----------------------------------------------\n",
      "\n"
     ]
    },
    {
     "name": "stdin",
     "output_type": "stream",
     "text": [
      "Octavio, escoge una carta:  00\n"
     ]
    },
    {
     "name": "stdout",
     "output_type": "stream",
     "text": [
      "        4♥        \n",
      "     6♣  10♥      \n",
      "    8♣  7♥  J♣    \n",
      "  6♥  2♠  7♣  J♦  \n",
      "Q♦  3♠  A♠  4♦  9♦\n",
      "\n",
      "Octavio, te salvaste!\n",
      "\n",
      "La carta escogida es: 4♥\n",
      "\n",
      "Tu mano es: ['Q♥', 'K♥', 'K♠', '7♦', '6♠', 'A♦']\n",
      "\n",
      "Javiera, te salvaste!\n",
      "\n",
      "La mano de Javiera es :['3♥', '3♦', '9♣', 'J♠', 'A♣', '2♣']\n",
      "\n",
      "Ahora es el turno de Javiera.\n",
      "\n",
      "----------------------------------------------\n",
      "\n"
     ]
    }
   ],
   "source": [
    "# Ahora empezaremos con la función para que nuestro usuario comience a seleccionar las cartas.\n",
    "## Lo siguiente también nos quedó a medio camino, ya que intentamos escribir sólo 1 vez el código, no las 14 que lo escribimos, pero tampoco nos funcionó, así que también lo mejoraremos.\n",
    "def juego (coordenada1):\n",
    "    coordenada1 = input(f'{jugadores[0]}, escoge una carta: ')\n",
    "    indice = int(coordenada1)\n",
    "    carta = cartas_piramide[indice]\n",
    "    volteadas[carta] = carta\n",
    "\n",
    "    def print_carta(*cartas):\n",
    "        cartas = [volteadas.get(carta, i) for carta in cartas]\n",
    "        juntos = '  '.join(cartas)\n",
    "        print('{:^18s}'.format(juntos))\n",
    "\n",
    "    cartas_piramide_copia = cartas_piramide.copy()\n",
    "    \n",
    "    for i in range(1,6):\n",
    "        renglon = []\n",
    "        for _ in range(i):\n",
    "            renglon.append(cartas_piramide_copia.pop(0))\n",
    "        print_carta(*renglon)\n",
    "    \n",
    "    if carta[:-1] not in mano_jugador1_valores:\n",
    "        print(f'\\n{jugadores[0]}, te salvaste!')\n",
    "    if carta[:-1] in mano_jugador1_valores:\n",
    "        print(f'\\n{jugadores[0]}, bebe 5 segundos!')    \n",
    "    print(f'\\nLa carta escogida es: {carta}')\n",
    "    print(f'\\nTu mano es: {mano_jugador1}')\n",
    "    \n",
    "    if carta[:-1] not in mano_jugador2_valores:\n",
    "        print(f'\\n{jugadores[1]}, te salvaste!')\n",
    "    if carta[:-1] in mano_jugador2_valores:\n",
    "        print(f'\\n{jugadores[1]}, bebe 5 segundos!')\n",
    "    print(f'\\nLa mano de {jugadores[1]} es :{mano_jugador2}')\n",
    "    print(f'\\nAhora es el turno de {jugadores[1]}.')\n",
    "    print(f'\\n----------------------------------------------\\n')\n",
    "    \n",
    "    coordenada2 = input(f'{jugadores[1]}, escoge una carta: ')\n",
    "    indice = int(coordenada2)\n",
    "    carta = cartas_piramide[indice]\n",
    "    volteadas[carta] = carta\n",
    "\n",
    "    def print_carta(*cartas):\n",
    "        cartas = [volteadas.get(carta, i) for carta in cartas]\n",
    "        juntos = '  '.join(cartas)\n",
    "        print('{:^18s}'.format(juntos))\n",
    "\n",
    "    cartas_piramide_copia = cartas_piramide.copy()\n",
    "    \n",
    "    for i in range(1,6):\n",
    "        renglon = []\n",
    "        for _ in range(i):\n",
    "            renglon.append(cartas_piramide_copia.pop(0))\n",
    "        print_carta(*renglon)\n",
    "          \n",
    "    if carta[:-1] not in mano_jugador2_valores:\n",
    "        print(f'\\n{jugadores[1]}, te salvaste!')\n",
    "    if carta[:-1] in mano_jugador2_valores:\n",
    "        print(f'\\n{jugadores[1]}, bebe 5 segundos!')    \n",
    "    print(f'\\nLa carta escogida es: {carta}')\n",
    "    print(f'\\nTu mano es: {mano_jugador2}')\n",
    "    \n",
    "    if carta[:-1] not in mano_jugador1_valores:\n",
    "        print(f'\\n{jugadores[0]}, te salvaste!')\n",
    "    if carta[:-1] in mano_jugador1_valores:\n",
    "        print(f'\\n{jugadores[0]}, bebe 5 segundos!')\n",
    "    print(f'\\nLa mano de {jugadores[0]} es :{mano_jugador1}')\n",
    "    print(f'\\nAhora es el turno de {jugadores[0]}.')\n",
    "    print(f'\\n----------------------------------------------\\n')\n",
    "    \n",
    "    \n",
    "    return juego(coordenada1)\n",
    "juego(0)"
   ]
  }
 ],
 "metadata": {
  "kernelspec": {
   "display_name": "Python 3 (ipykernel)",
   "language": "python",
   "name": "python3"
  },
  "language_info": {
   "codemirror_mode": {
    "name": "ipython",
    "version": 3
   },
   "file_extension": ".py",
   "mimetype": "text/x-python",
   "name": "python",
   "nbconvert_exporter": "python",
   "pygments_lexer": "ipython3",
   "version": "3.9.7"
  }
 },
 "nbformat": 4,
 "nbformat_minor": 5
}
